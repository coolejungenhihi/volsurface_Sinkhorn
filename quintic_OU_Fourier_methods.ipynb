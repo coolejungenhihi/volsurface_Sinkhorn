{
  "cells": [
    {
      "cell_type": "markdown",
      "metadata": {
        "id": "view-in-github",
        "colab_type": "text"
      },
      "source": [
        "<a href=\"https://colab.research.google.com/github/coolejungenhihi/volsurface_Sinkhorn/blob/main/quintic_OU_Fourier_methods.ipynb\" target=\"_parent\"><img src=\"https://colab.research.google.com/assets/colab-badge.svg\" alt=\"Open In Colab\"/></a>"
      ]
    },
    {
      "cell_type": "markdown",
      "id": "67e504f4-86b5-4147-a87d-16a245858f05",
      "metadata": {
        "id": "67e504f4-86b5-4147-a87d-16a245858f05"
      },
      "source": [
        "<header style=\"background-color: rgb(0, 62, 92); color: white; margin-top: 20px; padding:28px; \">\n",
        "\n",
        "  <p style=\" text-align: center; font-size: 32px;\">   \n",
        "   <strong> Fourier-Laplace transforms in polynomial Ornstein-Uhlenbeck volatility models:  </strong></p>\n",
        "  <p style=\" text-align: center; font-size: 25px;\"><strong>The case of Quintic Ornstein-Uhlenbeck volatility model </strong></p>\n",
        "  <p style=\" text-align: center; font-size: 20px;\">Eduardo Abi Jaber $\\quad$  eduardo.abi-jaber@polytechnique.edu  </p>\n",
        "  <p style=\" text-align: center; font-size: 20px;\">Shaun (Xiaoyuan) Li $\\quad$  shaunlinz02@gmail.com  </p>  \n",
        "  <p style=\" text-align: center; font-size: 20px;\">Xuyang Lin $\\quad$  xuyang.lin@polytechnique.edu  </p>  \n",
        "  \n",
        "</header>"
      ]
    },
    {
      "cell_type": "markdown",
      "id": "6ea3382e-faa4-4cb9-a761-f9ec43e1169a",
      "metadata": {
        "id": "6ea3382e-faa4-4cb9-a761-f9ec43e1169a"
      },
      "source": [
        "  <p style=\"background-color: rgb(0, 62, 92); color: white; text-align: center; font-size: 15px;\"><strong>Based on the paper \"Fourier-Laplace transforms in polynomial Ornstein-Uhlenbeck volatility models\" </strong></p>"
      ]
    },
    {
      "cell_type": "markdown",
      "id": "c289b909-7218-4e9f-9a59-c5f8206a97a7",
      "metadata": {
        "id": "c289b909-7218-4e9f-9a59-c5f8206a97a7"
      },
      "source": [
        "# Polynomial Ornstein-Uhlenbeck volatility models"
      ]
    },
    {
      "cell_type": "markdown",
      "id": "16b07765-31f3-453e-83b9-f59f43946301",
      "metadata": {
        "id": "16b07765-31f3-453e-83b9-f59f43946301"
      },
      "source": [
        "The family of polynomial OU volatility models under the risk-neutral filtered probability space $(\\Omega, \\mathcal F,(\\mathcal F_t)_{t\\geq 0}, \\mathbb Q )$  has the following dynamics:\n",
        "\n",
        "\n",
        "\\begin{equation}\n",
        "  \\begin{aligned}\n",
        "    d S_t &= S_t \\sigma_tdB_t, \\quad  S_0 >0,\\\\\n",
        "    \\sigma_t &= g_0(t)  p(X_t), \\quad p(x) = \\sum_{k= 0}^{\\infty} p_k x^k,\\\\\n",
        "    dX_t &= (a+bX_t)dt + c dW_t, \\quad X_0 \\in \\mathbb R,\\\\\n",
        "\\end{aligned}\n",
        "  \\end{equation}"
      ]
    },
    {
      "cell_type": "markdown",
      "id": "9203f5cb-747a-4742-b146-8c62b95d110b",
      "metadata": {
        "id": "9203f5cb-747a-4742-b146-8c62b95d110b"
      },
      "source": [
        "with $a,b, p_k \\in \\mathbb R$, $c\\neq 0$, $ B=\\rho W + \\sqrt{1-\\rho^2} W^{\\perp}$ and $\\rho \\in [-1,1]$. Here $(W,W^{\\perp})$ is a two-dimensional Brownian motion on a risk-neutral filtered probability space $(\\Omega, \\mathcal F,(\\mathcal F_t)_{t\\geq 0}, \\mathbb Q )$ satisfying the usual conditions.\n",
        " The deterministic bounded input curve   $g_0:[0,T] \\to \\mathbb R_{{+}}$ allows the model to match certain term structures of volatility, e.g. the forward variance curve since we have for $g_0(t) := \\sqrt{\\xi_0(t) / \\mathbb E[p^2(X_t)]}$:"
      ]
    },
    {
      "cell_type": "markdown",
      "id": "3e6f53f4-b265-4f9c-934e-bcbeda31a95b",
      "metadata": {
        "id": "3e6f53f4-b265-4f9c-934e-bcbeda31a95b"
      },
      "source": [
        "\\begin{align}\n",
        "\\mathbb E \\left[ \\int_0^t \\sigma^2_s ds \\right] = \\int_0^t \\xi_0(s) ds, \\quad t\\geq 0.\n",
        "\\end{align}\n",
        "Generally, this family of models is well-defined with $\\int_0^T \\mathbb E[p^2(X_s)ds] < \\infty$ when\n",
        "$$\\sum_{k=0}^{\\infty}(k-1)!! p_kx^k\n",
        "$$\n",
        "has infinite radius of convergence.\n",
        "\n",
        "We will now present a particular case of the model: the Quintic Ornstein-Uhlenbeck volatility Model which has demonstrated remarkable capabilities in\n",
        "fitting jointly the SPX-VIX volatility surface for short maturities between one week to three months supported by extensive empirical studies (Abi Jaber, Illand, and Li, 2022, 2023)"
      ]
    },
    {
      "cell_type": "markdown",
      "id": "fc35b7f7-5dc4-433a-8ac0-d1d2fe9cbcaf",
      "metadata": {
        "id": "fc35b7f7-5dc4-433a-8ac0-d1d2fe9cbcaf"
      },
      "source": [
        "# Quintic Ornstein-Uhlenbeck volatility Model"
      ]
    },
    {
      "cell_type": "markdown",
      "id": "7f612e8b-ab36-4cd3-b1e4-63bea28b6521",
      "metadata": {
        "id": "7f612e8b-ab36-4cd3-b1e4-63bea28b6521"
      },
      "source": [
        "The volatility process $\\sigma_t$ under the Quintic OU Model takes the form of:\n",
        "\n",
        "\\begin{equation}\n",
        "  \\begin{aligned}\n",
        "    \\sigma_t &= \\sqrt{\\frac{\\xi_0(t)}{\\mathbb E \\left[p(X_t)^2\\right]}}p(X_t), \\quad       p(x) =p_0 + p_1 x + p_3 x^3 + p_5 x^5,\\\\\n",
        "      X_t &= \\varepsilon^{\\alpha} \\int_0^t e^{\\alpha\\varepsilon^{-1}(t-s)} dW_s,\n",
        "  \\end{aligned}\n",
        "  \\end{equation}\n",
        "  \n",
        "with $\\varepsilon>0$ and $\\alpha\\leq 0$. The non-negative coefficients $p_0,p_1,p_3,p_5\\geq 0$ $(p_2=p_4 = 0)$ ensures {a negative leverage effect as well as the martingality of $S$ whenever $\\rho\\leq0$,} see \\cite{jaber2022quintic} . The particular parametrization with $X$ means $a = 0, b = \\alpha \\varepsilon^{-1}$ and $c = \\varepsilon^{\\alpha}$."
      ]
    },
    {
      "cell_type": "markdown",
      "id": "4fcd994f-24da-4e97-a2e2-effd663ab45f",
      "metadata": {
        "id": "4fcd994f-24da-4e97-a2e2-effd663ab45f"
      },
      "source": [
        "## Fourier-Laplace transform"
      ]
    },
    {
      "cell_type": "markdown",
      "id": "3ed86258-44c3-4dd4-b8ba-676163ed7660",
      "metadata": {
        "id": "3ed86258-44c3-4dd4-b8ba-676163ed7660"
      },
      "source": [
        "Under suitable conditions, the Fourier Laplace transform of the quintic (or polynomial) OU volatility model is affine in the powers of $X$ $(1,X, X^2, \\cdots, X^n, \\cdots)$, i.e.\n",
        "\n",
        "\\begin{align}\n",
        "F(t,x):= \\mathbb{E} \\left[  \\exp\\left(\\int_t^T g_1(T-s) d\\log S_s + \\int_t^T g_2(T-s) \\sigma_s^2 ds\\right) \\vert X_t =x  \\right]\n",
        "\\end{align}\n",
        "can be represented by the following infinite power series\n",
        "\n",
        "\\begin{equation}\n",
        "   F(t,x)\n",
        "     = \\exp\\left(  \\sum_{k\\geq 0}\\psi_k(T-t)x^k \\right), \\quad t \\leq T,\n",
        "\\end{equation}\n",
        "\n",
        "for some complex-valued functions $g_1,g_2: [0,T]\\to \\mathbb C$ such that $\\Re(g_1)=0,\\Re(g_2)\\leq 0$, where $\\psi_k$ solves a system of infinite-dimensional Riccati-type ODE:\n",
        "\\begin{align}\n",
        "    \\psi_k'(t) &= \\Big(g_2(t) + \\frac{g_1(t)}{2}(g_1(t)-1)\\Big)g_0^2(T-t) (p*p)_k \\\\\n",
        "    &+ bk\\psi_k(t) + a(k+1)\\psi_{k+1}(t) + \\frac{c^2(k+2)(k+1)}{2}\\psi_{k+2}(t)\\\\\n",
        "    &+ \\frac{c^2}{2}(\\widetilde \\psi (t)*\\widetilde \\psi (t))_k + \\rho g_1(t) g_0(T-t) c (p*\\widetilde \\psi(t))_k ,\\quad \\widetilde \\psi_k(t): = (k+1)\\psi_{k+1}(t),\n",
        "    \\\\ &\\\\\n",
        "    \\psi_k(0) &\n",
        "    = 0.\n",
        "\\end{align}"
      ]
    },
    {
      "cell_type": "code",
      "execution_count": null,
      "id": "b5082f63-0ddf-4017-ae38-574e07ab0d4c",
      "metadata": {
        "id": "b5082f63-0ddf-4017-ae38-574e07ab0d4c"
      },
      "outputs": [],
      "source": []
    },
    {
      "cell_type": "markdown",
      "id": "d8fd262a-30d0-4944-90d0-938b03910dff",
      "metadata": {
        "id": "d8fd262a-30d0-4944-90d0-938b03910dff"
      },
      "source": [
        "## Numerical solution of the Riccati ODE"
      ]
    },
    {
      "cell_type": "markdown",
      "id": "b2e9c288-4235-435b-bd0b-c63057a779c1",
      "metadata": {
        "id": "b2e9c288-4235-435b-bd0b-c63057a779c1"
      },
      "source": [
        "This infinite dimensional Riccati-type ODE can be solved numerically by truncating the system at some level $M$ and assume that $\\psi_k = 0, k>M$. However, we still have a stiff M-dimensional ODE, for example, $c^2(k+1)(k+2)$ can be very large for large $k$, so classic ODE solver such as Runge-Kutta methods usually fails.\n",
        "\n",
        "In the paper $\\textbf{Fourier-Laplace transforms in polynomial Ornstein-Uhlenbeck volatility models}$, we developped a customized algorithm that combines variation of constants and an implicit Euler scheme to solve this M-dimensional Riccati equations.\n",
        "\n",
        "Our numerical solver has shown to be stable enough to carry out calibration to market data. For most reasonable parameters our numerical solver appears to work. See our paper for detailed calibration results."
      ]
    },
    {
      "cell_type": "markdown",
      "id": "de396f6e-83a1-44f4-ad81-a46789629dbc",
      "metadata": {
        "id": "de396f6e-83a1-44f4-ad81-a46789629dbc"
      },
      "source": [
        "<div style=\"border:solid 1px; border-radius:8px; padding: 6px 8px 6px 8px; margin-top: 12px; border-color:rgb(0, 62, 92, 0.5); background-color:rgb(251, 251, 251);\">\n",
        "    <strong></strong><b style=\"color:red;\">!!</b><b>  However</b>, in the extreme case where $c$ is very large and $p_k$ very large at higher orders of the polynomial, our solver still encounter numerical issues.  Please get in touch with the authors if you have any feedback and suggestions for improvements 😊\n",
        "</div>"
      ]
    },
    {
      "cell_type": "markdown",
      "id": "3bb68f98-820c-4105-8572-28835bafe067",
      "metadata": {
        "id": "3bb68f98-820c-4105-8572-28835bafe067"
      },
      "source": [
        "The main idea is to apply variation of constants and solves this $M$ system of Riccati ODE iteratively using an implicit scheme:\n",
        "\n",
        "\\begin{equation}\n",
        "\\begin{aligned}\n",
        "    \\psi(t_{i+1}) &= e^{A\\Delta t} \\psi(t_i) + \\int_{t_i}^{t_{i+1}} e^{A (t_{i+1} -s )} P(s) ds + \\int_{t_i}^{t_{i+1}} e^{A (t_{i+1} -s )} Q \\psi(s) ds\\\\\n",
        "    &+\\frac{c^2}{2}\\int_{t_i}^{t_{i+1}} e^{A (t_{i+1} -s )}(\\widetilde \\psi(s)* \\widetilde \\psi(s)) ds + \\int_{t_i}^{t_{i+1}} e^{A (t_{i+1} -s )}l(s)N\\psi(s) ds,\n",
        "\\end{aligned}\n",
        "\\end{equation}\n",
        "and thus\n",
        "\\begin{align*}\n",
        "   \\psi(t_{i+1}) &\\approx  J^{-1} \\Big(e^{A\\Delta t} \\psi(t_i) + G_{\\Delta} P(t_i)\\Big),\n",
        "\\end{align*}\n",
        "where $J = \\bigg(I-G_{\\Delta}\\Big(\\frac{c^2}{2}R^{(i)} + l(t_i)N + Q \\Big) \\bigg)$. For Detailed notation, please refer to to our paper."
      ]
    },
    {
      "cell_type": "markdown",
      "id": "7358b818-50e9-4a79-a514-5a1b118273d7",
      "metadata": {
        "id": "7358b818-50e9-4a79-a514-5a1b118273d7"
      },
      "source": [
        "To speed up the solver, we use an adaptive algorithm that controls the error coming from the second order term $\\psi''(t)$ and JIT compilation. Here is the detailed implementation."
      ]
    },
    {
      "cell_type": "code",
      "execution_count": null,
      "id": "3a514196-4651-4d48-91f2-055fb2862baa",
      "metadata": {
        "tags": [],
        "id": "3a514196-4651-4d48-91f2-055fb2862baa"
      },
      "outputs": [],
      "source": [
        "#pip install py_vollib    #run this if you don't already have the py_vollib library installed#"
      ]
    },
    {
      "cell_type": "code",
      "execution_count": null,
      "id": "4b9f1836-0614-46df-ab03-dad8edeb2a14",
      "metadata": {
        "tags": [],
        "id": "4b9f1836-0614-46df-ab03-dad8edeb2a14"
      },
      "outputs": [],
      "source": [
        "import numpy as np\n",
        "import pandas as pd\n",
        "import matplotlib.pyplot as plt\n",
        "from scipy.stats import norm\n",
        "plt.rcParams[\"figure.figsize\"] = (4.8, 3.2)\n",
        "import scipy\n",
        "from scipy.optimize import minimize\n",
        "from math import pi\n",
        "\n",
        "import warnings\n",
        "warnings.filterwarnings('ignore') #to suppress warning messages"
      ]
    },
    {
      "cell_type": "code",
      "execution_count": null,
      "id": "5670030f-98c8-40df-8809-6889b2c7403d",
      "metadata": {
        "tags": [],
        "id": "5670030f-98c8-40df-8809-6889b2c7403d"
      },
      "outputs": [],
      "source": [
        "import numba as nb\n",
        "from numba import njit\n",
        "from numba import complex128, float64,int64"
      ]
    },
    {
      "cell_type": "code",
      "execution_count": null,
      "id": "3e5feebd-67c3-41c2-a5fe-1e6555682f3e",
      "metadata": {
        "tags": [],
        "id": "3e5feebd-67c3-41c2-a5fe-1e6555682f3e"
      },
      "outputs": [],
      "source": [
        "from py_vollib.black_scholes.implied_volatility import implied_volatility\n",
        "vec_find_vol_rat = np.vectorize(implied_volatility)"
      ]
    },
    {
      "cell_type": "code",
      "execution_count": null,
      "id": "53b1f5b9-28eb-46a3-a1a5-7dcfd851b57b",
      "metadata": {
        "tags": [],
        "id": "53b1f5b9-28eb-46a3-a1a5-7dcfd851b57b",
        "outputId": "6cdbb00b-7022-498f-e2c5-c200d9f31edb"
      },
      "outputs": [
        {
          "name": "stdout",
          "output_type": "stream",
          "text": [
            "8\n"
          ]
        }
      ],
      "source": [
        "import os\n",
        "import multiprocessing\n",
        "num_cores = os.cpu_count()\n",
        "print(num_cores)\n",
        "#The more core you have, the faster the code runs due to parallelization"
      ]
    },
    {
      "cell_type": "code",
      "execution_count": null,
      "id": "7f32761b-4f3a-4e32-a8f3-c6451d516f58",
      "metadata": {
        "id": "7f32761b-4f3a-4e32-a8f3-c6451d516f58"
      },
      "outputs": [],
      "source": []
    },
    {
      "cell_type": "markdown",
      "id": "ba76ff9f-38f6-4988-bc96-390327756c89",
      "metadata": {
        "id": "ba76ff9f-38f6-4988-bc96-390327756c89"
      },
      "source": [
        "# Riccati Solvers"
      ]
    },
    {
      "cell_type": "code",
      "execution_count": null,
      "id": "8dc39036-1ac3-4648-93e2-f1d6f70f8878",
      "metadata": {
        "tags": [],
        "id": "8dc39036-1ac3-4648-93e2-f1d6f70f8878"
      },
      "outputs": [],
      "source": [
        "@njit(int64(int64),cache = True)\n",
        "def doublefactorial(n):\n",
        "    if n <= 0:\n",
        "        return 1\n",
        "    else:\n",
        "        return n * doublefactorial(n-2)"
      ]
    },
    {
      "cell_type": "code",
      "execution_count": null,
      "id": "cd15502c-0719-4bbb-b7eb-9ffeb900e421",
      "metadata": {
        "tags": [],
        "id": "cd15502c-0719-4bbb-b7eb-9ffeb900e421"
      },
      "outputs": [],
      "source": [
        "##### certain quantities can be pre-computed to save time\n",
        "@njit(nb.types.Tuple((float64[:,::1], float64[::1],float64[:,::1],float64[:,::1],complex128[:,::1],float64[::1]))\n",
        "      (float64,float64,float64[::1],int64,int64),cache = True)\n",
        "def char_func_pre_calc_adaptive(b,c,p_k,M,truc_k):\n",
        "\n",
        "    convol_p_k_temp = np.convolve(p_k,p_k)\n",
        "    convol_p_k = np.zeros((M+1))\n",
        "    convol_p_k[:len(convol_p_k_temp)] = convol_p_k_temp\n",
        "    n = len(p_k)\n",
        "\n",
        "    A_mat = np.arange(M+1)*b\n",
        "    Q_mat = np.zeros((M+1,M+1))\n",
        "    np.fill_diagonal(Q_mat[:-2,2:],np.minimum(np.arange(1,M),truc_k)*np.minimum(np.arange(2,M+1),truc_k)*c**2/2)\n",
        "\n",
        "    kk = np.minimum(np.arange(0,M+1),truc_k)\n",
        "    N_mat = np.zeros((M+1,M+1))\n",
        "    for i in range(len(p_k)):\n",
        "        np.fill_diagonal(N_mat[i:M+i,1:M+2-i],p_k[i])\n",
        "    N_mat[:,1:] = N_mat[:,1:]*kk[1:]\n",
        "\n",
        "    k_net = np.zeros((M+1,M+1))*1j\n",
        "    for j in range(M):\n",
        "        if j == 0:\n",
        "            k_net[j:M+j,j+1] = np.arange(1,M+1-j)*(j+1)\n",
        "        else:\n",
        "            k_net[j:M+j,j+1] = np.arange(1,M+2-j)*(j+1)\n",
        "\n",
        "    db_fac_coeff = np.array([doublefactorial(z) for z in np.arange(0,2*n,2)-1])*convol_p_k[np.arange(0,2*n,2)]\n",
        "\n",
        "    return convol_p_k.reshape(-1,1),A_mat,N_mat,Q_mat,k_net,db_fac_coeff"
      ]
    },
    {
      "cell_type": "code",
      "execution_count": null,
      "id": "fc90efec-7d8f-47c8-aee7-245cfce0066e",
      "metadata": {
        "tags": [],
        "id": "fc90efec-7d8f-47c8-aee7-245cfce0066e"
      },
      "outputs": [],
      "source": [
        "@njit(complex128(complex128,complex128,float64,float64,float64,float64,float64,float64[::1],int64,float64[:,::1],float64[::1],\n",
        "                 float64[:,::1],float64[:,::1],complex128[:,::1],float64[::1],int64,float64),cache = True)\n",
        "def riccati_solver_adaptive(g_1,g_2,rho,b,c,xi_0,T,p_k,truc_k,convol_p_k,A_mat,N_mat,Q_mat,k_net,db_fac_coeff,M,tol):\n",
        "    phi_kk = np.zeros((M+1))*1j\n",
        "\n",
        "    steps_start = 400\n",
        "    t_start = 0.0\n",
        "    dt_max = T/10\n",
        "    n = len(p_k)\n",
        "    np_arange = np.arange(0,2*n,2)\n",
        "\n",
        "    if T<=1.5/52:\n",
        "        dt_min = 0.00005\n",
        "    else:\n",
        "        dt_min = np.sqrt(4e-7*T)\n",
        "\n",
        "    dt = np.maximum(T/steps_start,dt_min)\n",
        "\n",
        "    while (t_start<T) and (dt!=0):\n",
        "        Ri = np.zeros((M+1,M+1))*1j\n",
        "        for j in range(M):\n",
        "            Ri[j:M+j,j+1] = phi_kk[1:M+2-j]\n",
        "        Ri=Ri*k_net\n",
        "\n",
        "        std_X_t = np.sqrt(c**2/(-2*b)*(1-np.exp(2*b*(T-t_start))))\n",
        "        normal_var = np.sum(db_fac_coeff*std_X_t**(np_arange))\n",
        "        g_0_T_t = (np.sqrt(xi_0)/np.sqrt(normal_var))\n",
        "        mmts = std_X_t**(np_arange-2)\n",
        "        if mmts[0]==np.inf:\n",
        "            mmts[0] = 0.0\n",
        "        P_vec = (((g_2+g_1/2*(g_1-1))*g_0_T_t**2)*convol_p_k)[:,0]\n",
        "\n",
        "        ######################################################################################### compute second order\n",
        "        g_0_T_t_derivative = np.sqrt(xi_0)/(2*(normal_var**1.5))*c**2/2*np.exp(2*b*(T-t_start))*\\\n",
        "            np.sum((db_fac_coeff*np_arange)*mmts)\n",
        "        g_0_T_t_derivative = np.maximum(g_0_T_t_derivative,0.0)\n",
        "        P_vec_derivative = ((g_2+g_1/2*(g_1-1))*2*g_0_T_t*g_0_T_t_derivative)*convol_p_k\n",
        "        first_order = (np.diag(A_mat)+Q_mat+c**2/2*Ri+rho*g_1*c*g_0_T_t*N_mat)@phi_kk+P_vec\n",
        "        quad_derivative = np.zeros((M+1,M+1))*1j\n",
        "        for j in range(M):\n",
        "            quad_derivative[j:M+j,j+1] = first_order[1:M+2-j]\n",
        "        quad_derivative = (quad_derivative*k_net)*2\n",
        "        second_order = (np.diag(A_mat)+Q_mat+rho*g_1*c*g_0_T_t*N_mat)@first_order+\\\n",
        "            (rho*g_1*c*g_0_T_t_derivative*N_mat)@phi_kk+c**2/2*quad_derivative@phi_kk+P_vec_derivative[:,0]\n",
        "        sec_order_error = np.average(np.abs(second_order/2*dt**2))\n",
        "        #########################################################################################\n",
        "\n",
        "        dt_temp = np.sqrt(tol/np.average(np.abs(second_order/2)))\n",
        "        dt = np.minimum(T-t_start,np.minimum(np.maximum(dt_temp,dt_min),dt_max))\n",
        "\n",
        "        e_A_dt_mat = np.exp(A_mat*dt)\n",
        "        G_mat = (e_A_dt_mat-1)/A_mat\n",
        "        G_mat[0] = dt\n",
        "        J_mat = np.eye(M+1, dtype=np.complex128)-\\\n",
        "                            np.diag(G_mat).astype(np.complex128)@(c**2/2*Ri+rho*g_1*c*g_0_T_t*N_mat+Q_mat)\n",
        "        rhs = e_A_dt_mat*phi_kk+G_mat*P_vec\n",
        "        phi_kk = np.linalg.solve(J_mat,rhs)\n",
        "        t_start=t_start+dt\n",
        "\n",
        "    return np.exp(phi_kk[0])"
      ]
    },
    {
      "cell_type": "code",
      "execution_count": null,
      "id": "095a6d9e-e938-41c9-b351-5d71cccb35b5",
      "metadata": {
        "tags": [],
        "id": "095a6d9e-e938-41c9-b351-5d71cccb35b5"
      },
      "outputs": [],
      "source": [
        "#JIT compilation for parallel processing across multiple CPUs\n",
        "@njit(complex128[::1](float64[::1],complex128,float64,float64,float64,float64,float64,float64[::1],int64,float64[:,::1],float64[::1],\n",
        "                 float64[:,::1],float64[:,::1],complex128[:,::1],float64[::1],int64,float64),parallel=True,cache = True)\n",
        "def riccati_solver_adaptive_parallel(u_i,g_2,rho,b,c,xi_0,T,p_k,truc_k,convol_p_k,A_mat,N_mat,Q_mat,k_net,db_fac_coeff,M,tol):\n",
        "    char_func = np.empty(len(u_i), dtype=np.complex128)\n",
        "    for i in nb.prange(len(u_i)):\n",
        "        char_func[i]= riccati_solver_adaptive(1j*u_i[i]+0.5,g_2,rho,b,c,xi_0,T,p_k,truc_k,convol_p_k,A_mat,N_mat,Q_mat,k_net,db_fac_coeff,M,tol)\n",
        "    return char_func"
      ]
    },
    {
      "cell_type": "code",
      "execution_count": null,
      "id": "3b3504d0-0ea5-4f62-8ae6-17d37ee91a2c",
      "metadata": {
        "id": "3b3504d0-0ea5-4f62-8ae6-17d37ee91a2c"
      },
      "outputs": [],
      "source": []
    },
    {
      "cell_type": "markdown",
      "id": "9d41fa49-6b82-419c-8f9a-31b380fafc9c",
      "metadata": {
        "id": "9d41fa49-6b82-419c-8f9a-31b380fafc9c"
      },
      "source": [
        "# Pricer"
      ]
    },
    {
      "cell_type": "markdown",
      "id": "e9a82f59-3666-4160-b6b6-526857a6c1d1",
      "metadata": {
        "id": "e9a82f59-3666-4160-b6b6-526857a6c1d1"
      },
      "source": [
        "Our numerical scheme gives us direct access to the characteristic function of $\\log S$ to price derivatives via Fourier inversion techniques. There are several Fourier inversion techniques available in the literature to price European-style Vanilla calls and puts. Here we adapt the pricing formula suggested in (L. Lewis, 2001) with control variates\n",
        "\n",
        "To speed up the computation of vanilla option price $C_t(S_t, K, T)$ for maturities $T-t$ with strike $K$ under the quintic (polynomial) OU volatility model, we introduce a control variate to reduce the number of evaluation of $\\varphi(u)$ for different $u$:\n",
        "\\begin{equation}\n",
        "C_t(S_t, K, T) = \\widehat C_t(S_t, K, T) - \\frac{K}{\\pi}\\int_0^\\infty \\Re\\left[e^{\\left(iu+\\frac{1}{2}\\right)k_t} \\left (\\varphi \\left(u-\\frac{i}{2} \\right) - \\widehat \\varphi \\left(u-\\frac{i}{2} \\right) \\right)\n",
        "  \\right]\\frac{du}{u^2+\\frac{1}{4}},\n",
        "\\end{equation}\n",
        "where $\\widehat C_t(S_t, K, T)$ is the appropriate call price of the control variate. We set $\\varphi(u):=F(t,x)$ the Fourier-Laplace transform of $\\log(\\frac{S_T}{S_t})$ by fixing  $g_2(t)=0$ and $g_1(t) = iu$; and $\\widehat \\varphi \\left(u\\right)$ is the Fourier-Laplace transform of $\\log(\\frac{S_T}{S_t})$ of the control variate."
      ]
    },
    {
      "cell_type": "markdown",
      "id": "537b52d2-ec5b-4941-83f9-1c26df2d9e7f",
      "metadata": {
        "id": "537b52d2-ec5b-4941-83f9-1c26df2d9e7f"
      },
      "source": [
        "For this notebook, we choose the Heston stochastic volatility model (Heston, 1993) as the control variate. The Heston model has the following dynamics:\n",
        "\n",
        "\\begin{equation}\n",
        "  \\begin{aligned}\n",
        "    d S_t &= S_t \\sigma_tdB_t, \\quad  S_0 >0,\\\\\n",
        "    \\sigma_t^2 &= \\kappa(\\theta-\\sigma_t^2)dt + \\eta \\sigma_tdW_t,\\\\\n",
        "\\end{aligned}\n",
        "\\end{equation}\n",
        "\n",
        "with $\\kappa,\\theta,\\sigma_0, \\eta > 0$, $ B=\\rho W + \\sqrt{1-\\rho^2} W^{\\perp}$ and $\\rho \\in [-1,1]$. The Heston model is also affine in its state variables $(St, \\sigma_t^2)$ with explicit solution of the characteristic function $\\widehat \\varphi(u)$, which enables fast pricing via Fourier inversion (i.e. $\\widehat C_t$ can be efficiently computed).\n",
        "\n",
        "Given the explicit solution of $\\widehat \\varphi$, we can then search for the combination of Heston parameters $(\\kappa,\\theta,\\sigma_0, \\eta, \\rho)$ that minimizes the distance between $\\varphi$ and $\\widehat \\varphi$. The idea is that for a given maturity $T$, if the  $\\varphi$ and $\\widehat \\varphi$ are sufficiently close to each other, then the integral becomes close to zero and thus require less evaluation of $\\varphi(u-\\frac{i}{2})$. Of course, other control variates with explicit characteristic function (e.g. Black \\& Scholes) can also be used.\n",
        "\n",
        "Finally the improper integral numerically via the Gauss-Laguerre quadrature, which has been demonstrated to be efficient, see (Abi Jaber and Gérard, 2024) and (Hurd and Zhou, 2010).\n",
        "\n",
        "We now summarize the computation steps:\n",
        "1. determine the number of quadrature points $(u, w)$ required under the Gauss-Laguerre quadrature using the cummulants of the quintic (polynomial) OU model, similar to that of (Fang, W. Oosterlee, 2009)\n",
        "2. Search the parameter space of the control variate (Heston model in this case) via a standard optimization algorithm aiming at minimizing the error  between  $\\varphi$ and $\\widehat \\varphi$ evaluated at $u-\\frac{i}{2}$, with $u$ from step 1\n",
        "3. Compute $\\widehat C_t$ and $C_t$ using the weights $w$ from step 1"
      ]
    },
    {
      "cell_type": "code",
      "execution_count": null,
      "id": "4166de6e-b014-4b7c-a432-3c0e8f7b4d96",
      "metadata": {
        "id": "4166de6e-b014-4b7c-a432-3c0e8f7b4d96"
      },
      "outputs": [],
      "source": []
    },
    {
      "cell_type": "markdown",
      "id": "dea1bec6-5e61-47b8-87d1-f91698c3833f",
      "metadata": {
        "id": "dea1bec6-5e61-47b8-87d1-f91698c3833f"
      },
      "source": [
        "### Gauss laguerre quadrature"
      ]
    },
    {
      "cell_type": "code",
      "execution_count": null,
      "id": "a863603e-d830-4a06-9344-16f69db4b395",
      "metadata": {
        "tags": [],
        "id": "a863603e-d830-4a06-9344-16f69db4b395"
      },
      "outputs": [],
      "source": [
        "uu_ul = np.zeros(40)\n",
        "counter = 0\n",
        "gl_low = 20\n",
        "gl_upp = 60\n",
        "for i in range(gl_low,gl_upp,1):\n",
        "    u_i, _ = np.polynomial.laguerre.laggauss(i)\n",
        "    uu_ul[counter] = u_i[-1]\n",
        "    counter+=1\n",
        "def gauss_laguerre_lvl(rho,b,c,xi_0,T,p_k,truc_k,convol_p_k,A_mat,N_mat,Q_mat,k_net,db_fac_coeff,M,tol,gl_low):\n",
        "    du = complex(0.001)\n",
        "    g_2=0.0\n",
        "    #c1 and c2 are cummulants of the quintic OU model used to decide the number of points evaluated under the gauss laguerre quadrature\n",
        "    c1 = (np.log(riccati_solver_adaptive(0.5*du,g_2,rho,b,c,xi_0,T,p_k,truc_k,convol_p_k,A_mat,N_mat,Q_mat,k_net,db_fac_coeff,M,tol))-\\\n",
        "    np.log(riccati_solver_adaptive(-0.5*du,g_2,rho,b,c,xi_0,T,p_k,truc_k,convol_p_k,A_mat,N_mat,Q_mat,k_net,db_fac_coeff,M,tol)))/(du)\n",
        "    c2 = (np.log(riccati_solver_adaptive(du,g_2,rho,b,c,xi_0,T,p_k,truc_k,convol_p_k,A_mat,N_mat,Q_mat,k_net,db_fac_coeff,M,tol))+\\\n",
        "    np.log(riccati_solver_adaptive(-du,g_2,rho,b,c,xi_0,T,p_k,truc_k,convol_p_k,A_mat,N_mat,Q_mat,k_net,db_fac_coeff,M,tol)))/(du**2)\n",
        "    L=60\n",
        "    aa,bb = c1-L*np.sqrt(np.abs(c2)),c1+L*np.sqrt(np.abs(c2))\n",
        "    N = 2**8\n",
        "    ul = N*pi/(bb-aa).real\n",
        "\n",
        "    return np.argmin(np.abs(uu_ul-ul))+gl_low+1"
      ]
    },
    {
      "cell_type": "code",
      "execution_count": null,
      "id": "90cce4aa-afbe-4751-b866-cdfceae2fb59",
      "metadata": {
        "id": "90cce4aa-afbe-4751-b866-cdfceae2fb59"
      },
      "outputs": [],
      "source": []
    },
    {
      "cell_type": "markdown",
      "id": "f5043610-c20f-4058-a4ec-69b9333c891b",
      "metadata": {
        "id": "f5043610-c20f-4058-a4ec-69b9333c891b"
      },
      "source": [
        "### Control variate"
      ]
    },
    {
      "cell_type": "code",
      "execution_count": null,
      "id": "c43de15d-0b79-4cea-a8dc-72a4e60767ca",
      "metadata": {
        "tags": [],
        "id": "c43de15d-0b79-4cea-a8dc-72a4e60767ca"
      },
      "outputs": [],
      "source": [
        "#Control variate\n",
        "def laplace_Heston(kappa,eta,rho,V_0,theta, T,u):\n",
        "    xi = kappa - eta*rho*u*1j\n",
        "    d = np.sqrt( (eta*rho*u*1j-kappa)*(eta*rho*u*1j-kappa) + (eta*eta) * (u*u + 1j*u) )\n",
        "    g2 = (xi-d)/(xi+d)\n",
        "    cf = np.exp((kappa*theta)/(eta*eta) * ( (xi-d)*T - 2*np.log( (1-g2*np.exp(-d*T))/(1-g2) ))\\\n",
        "              + (V_0/(eta*eta))*(xi-d) * (1-np.exp(-d*T))/(1-g2*np.exp(-d*T)) )\n",
        "    return cf\n",
        "def find_heston_cv(model_param,u,T,laplace_trans):\n",
        "    kappa,eta,rho,V_0,theta = model_param\n",
        "    hest_cf = laplace_Heston(kappa,eta,rho,V_0,theta,T,u)\n",
        "\n",
        "    return np.average(np.array(hest_cf-laplace_trans).real**2+np.array(hest_cf-laplace_trans).imag**2)"
      ]
    },
    {
      "cell_type": "code",
      "execution_count": null,
      "id": "f24c0eec-62a7-470e-a6fb-528837b03c98",
      "metadata": {
        "tags": [],
        "id": "f24c0eec-62a7-470e-a6fb-528837b03c98"
      },
      "outputs": [],
      "source": [
        "u_hest, w_hest = np.polynomial.laguerre.laggauss(185)"
      ]
    },
    {
      "cell_type": "code",
      "execution_count": null,
      "id": "bea4f184-8597-4e14-b14e-ea0fec1772e8",
      "metadata": {
        "id": "bea4f184-8597-4e14-b14e-ea0fec1772e8"
      },
      "outputs": [],
      "source": []
    },
    {
      "cell_type": "markdown",
      "id": "a820e792-8acc-4771-b529-ba58203daf73",
      "metadata": {
        "id": "a820e792-8acc-4771-b529-ba58203daf73"
      },
      "source": [
        "### Fourier Pricer"
      ]
    },
    {
      "cell_type": "code",
      "execution_count": null,
      "id": "16eccb5a-dbe8-4a23-ae19-ba7fcb84ab06",
      "metadata": {
        "tags": [],
        "id": "16eccb5a-dbe8-4a23-ae19-ba7fcb84ab06"
      },
      "outputs": [],
      "source": [
        "@njit(float64[::1](float64,float64[::1],float64,float64,float64,float64,float64,float64[::1],int64,float64[:,::1],float64[::1],\n",
        "                 float64[:,::1],float64[:,::1],complex128[:,::1],float64[::1],int64,float64),parallel=True,cache = True)\n",
        "def pricing_function(S0,strike_array,rho,b,c,xi_0,T,p_k,truc_k,convol_p_k,A_mat,N_mat,Q_mat,k_net,db_fac_coeff,M,tol):\n",
        "    g_2=0.0j\n",
        "    with nb.objmode(u_i=\"float64[::1]\",w_i=\"float64[::1]\"):  #everything inside the with is run with pure python, so scipy can be used\n",
        "        lvl = gauss_laguerre_lvl(rho,b,c,xi_0,T,p_k,truc_k,convol_p_k,A_mat,N_mat,Q_mat,k_net,db_fac_coeff,M,tol,gl_low)\n",
        "        u_i, w_i = np.polynomial.laguerre.laggauss(lvl)\n",
        "    cf_quintic = riccati_solver_adaptive_parallel(u_i,g_2,rho,b,c,xi_0,T,p_k,truc_k,convol_p_k,A_mat,N_mat,Q_mat,k_net,db_fac_coeff,M,tol)\n",
        "\n",
        "    with nb.objmode(hes_laplace=\"complex128[::1]\",heston_price=\"float64[::1]\"):  #everything inside the with is run with pure python, so scipy can be used\n",
        "        param_init = np.array([-b,c,rho,np.sqrt(xi_0),np.sqrt(xi_0)])\n",
        "        l_bnd = np.array([0.5,0.5,-0.99,0.001,0.005]).reshape(-1,1)\n",
        "        r_bnd = np.array([100,50,-0.2,1,0.5]).reshape(-1,1)\n",
        "        bounds_x = np.concatenate((l_bnd,r_bnd),axis=1)\n",
        "        hest_cv_opt_algo = minimize(find_heston_cv, param_init, args=(u_i-0.5j,T,cf_quintic),method='SLSQP',\n",
        "                       bounds=bounds_x, tol=1e-20)\n",
        "        hest_cv_opt = hest_cv_opt_algo.x\n",
        "        kappa_h,eta_h,rho_h,V_0_h,theta_h = hest_cv_opt\n",
        "        hes_laplace = laplace_Heston(kappa_h,eta_h,rho_h,V_0_h,theta_h, T,u_i-0.5j)\n",
        "\n",
        "        #computing heston control variate option price\n",
        "        char_func_hest = laplace_Heston(kappa_h,eta_h,rho_h,V_0_h,theta_h, T,u_hest-0.5j)\n",
        "        integrand_heston = np.real(np.exp((1j*u_hest+0.5)*np.log(S0/strike_array).reshape(-1,1))*(char_func_hest))/(u_hest**2+0.25)\n",
        "        heston_price = S0-np.sum(integrand_heston*np.exp(u_hest)*w_hest,axis=1)*strike_array/pi\n",
        "\n",
        "    integrand_hest = np.real(np.exp((1j*u_i+0.5)*np.log(S0/strike_array).reshape(-1,1))*(cf_quintic-hes_laplace))/(u_i**2+0.25)\n",
        "    opt_price_quintic = heston_price-np.sum(integrand_hest*np.exp(u_i)*w_i,axis=1)*strike_array/pi\n",
        "\n",
        "    return opt_price_quintic"
      ]
    },
    {
      "cell_type": "code",
      "execution_count": null,
      "id": "3950e3b0-5945-4273-871d-21aa21669acb",
      "metadata": {
        "id": "3950e3b0-5945-4273-871d-21aa21669acb"
      },
      "outputs": [],
      "source": []
    },
    {
      "cell_type": "markdown",
      "id": "2a40557d-372b-467c-81f3-5ebb0d22a7b4",
      "metadata": {
        "id": "2a40557d-372b-467c-81f3-5ebb0d22a7b4"
      },
      "source": [
        "### Monte Carlo Pricer"
      ]
    },
    {
      "cell_type": "markdown",
      "id": "dc28c5d4-30aa-4eb7-8b78-0d39ee70e63b",
      "metadata": {
        "id": "dc28c5d4-30aa-4eb7-8b78-0d39ee70e63b"
      },
      "source": [
        "For completeness, we also include a Monte Carlo Pricer for the Quintic OU volatility model with antithetic and control variates as per (Bergomi, 2016). We can then compare the two pricers together in terms of computation time and accuracy."
      ]
    },
    {
      "cell_type": "code",
      "execution_count": null,
      "id": "188db509-7e51-4ee2-8cc6-29f96577ad1c",
      "metadata": {
        "tags": [],
        "id": "188db509-7e51-4ee2-8cc6-29f96577ad1c"
      },
      "outputs": [],
      "source": [
        "#algorithm for computing polynomial expressions\n",
        "def horner_vector(poly, n, x):\n",
        "    #Initialize result\n",
        "    result = poly[0].reshape(-1,1)\n",
        "    for i in range(1,n):\n",
        "        result = result*x + poly[i].reshape(-1,1)\n",
        "    return result"
      ]
    },
    {
      "cell_type": "code",
      "execution_count": null,
      "id": "db37b2ab-5ce9-44df-8850-fce25a4ca97d",
      "metadata": {
        "tags": [],
        "id": "db37b2ab-5ce9-44df-8850-fce25a4ca97d"
      },
      "outputs": [],
      "source": [
        "def bs_price_call(s,sigma,T,K):\n",
        "    #x is defined as St/K\n",
        "    d1 = (np.log(s/K)+0.5*np.power(sigma,2.0)*T)/(sigma*np.sqrt(T))\n",
        "    d2 = d1-sigma*np.sqrt(T)\n",
        "    price = s*scipy.special.ndtr(d1)-K*scipy.special.ndtr(d2)\n",
        "    return price"
      ]
    },
    {
      "cell_type": "code",
      "execution_count": null,
      "id": "8a0482ca-1b1d-49cb-ba97-2a11c4965e34",
      "metadata": {
        "tags": [],
        "id": "8a0482ca-1b1d-49cb-ba97-2a11c4965e34"
      },
      "outputs": [],
      "source": [
        "def gen_bm_path(n_steps,N_sims):\n",
        "    w1 = np.random.normal(0, 1, (n_steps, N_sims))\n",
        "    #Antithetic variates\n",
        "    w1 = np.concatenate((w1, -w1), axis = 1)\n",
        "    return w1"
      ]
    },
    {
      "cell_type": "code",
      "execution_count": null,
      "id": "f58c1cc1-e36e-42ee-884c-93c71130293b",
      "metadata": {
        "tags": [],
        "id": "f58c1cc1-e36e-42ee-884c-93c71130293b"
      },
      "outputs": [],
      "source": [
        "def mc_quintic_fwd_var(rho,b,c,T,p_k,xi_0,S0,strike_array,n_steps,N_sims,w1,compute_iv = True):\n",
        "\n",
        "    dt = T/n_steps\n",
        "    tt = np.linspace(0., T, n_steps + 1)\n",
        "\n",
        "    exp1 = np.exp(-b*tt)\n",
        "    exp2 = np.exp(-2*b*tt)\n",
        "\n",
        "    diff_exp2 = np.concatenate((np.array([0.]),np.diff(exp2)))\n",
        "    std_vec = np.sqrt(diff_exp2/(-2*b))[:,np.newaxis] #to be broadcasted columnwise\n",
        "    exp1 = exp1[:,np.newaxis]\n",
        "    Xt = (1/exp1[1:])*(c*np.cumsum(std_vec[1:]*w1, axis = 0))\n",
        "    Xt= np.concatenate((np.zeros(w1.shape[1])[np.newaxis, :],Xt))\n",
        "    std_X_t = np.sqrt(c**2/(-2*b)*(1-np.exp(2*b*tt)))\n",
        "    n = len(p_k)\n",
        "\n",
        "    cauchy_product = np.convolve(p_k,p_k)\n",
        "    normal_var = np.sum(cauchy_product[np.arange(0,2*n,2)].reshape(-1,1)*std_X_t**(np.arange(0,2*n,2).reshape(-1,1))*\\\n",
        "        np.maximum(scipy.special.factorial2(np.arange(0,2*n,2).reshape(-1,1)-1),1),axis=0)\n",
        "\n",
        "    f_func = horner_vector(p_k[::-1], len(p_k), Xt)\n",
        "\n",
        "    del Xt\n",
        "\n",
        "    volatility = f_func/np.sqrt(normal_var.reshape(-1,1))\n",
        "    del f_func\n",
        "    volatility = np.sqrt(xi_0)*volatility\n",
        "\n",
        "    logS1 = np.log(S0)\n",
        "    for i in range(w1.shape[0]):\n",
        "        logS1 = logS1-0.5*dt*(volatility[i]*rho)**2+np.sqrt(dt)*rho*volatility[i]*w1[i]\n",
        "    del w1\n",
        "    ST1 = np.exp(logS1)\n",
        "    del logS1\n",
        "\n",
        "    int_var = np.sum(volatility[:-1,]**2*dt,axis=0)\n",
        "    Q = np.max(int_var)+1e-9\n",
        "    del volatility\n",
        "    X = (bs_price_call(ST1,np.sqrt((1-rho**2)*int_var/T),T,strike_array.reshape(-1,1))).T\n",
        "    Y = (bs_price_call(ST1,np.sqrt(rho**2*(Q-int_var)/T),T,strike_array.reshape(-1,1))).T\n",
        "    del int_var\n",
        "    eY = (bs_price_call(S0,np.sqrt(rho**2*(Q)/T),T,strike_array.reshape(-1,1))).T\n",
        "\n",
        "    c = []\n",
        "    for i in range(strike_array.shape[0]):\n",
        "        cova = np.cov(X[:,i]+10,Y[:,i]+10)[0,1]\n",
        "        varg = np.cov(X[:,i]+10,Y[:,i]+10)[1,1]\n",
        "        if (cova or varg)<1e-8:\n",
        "            temp = 1e-40\n",
        "        else:\n",
        "            temp = np.nan_to_num(cova/varg,1e-40)\n",
        "        temp = np.minimum(temp,2)\n",
        "        c.append(temp)\n",
        "    c = np.array(c)\n",
        "\n",
        "    call_mc_cv1 = X-c*(Y-eY)\n",
        "    del X\n",
        "    del Y\n",
        "    del eY\n",
        "    p_mc_cv1 = np.average(call_mc_cv1,axis=0)\n",
        "    std_mc_cv1 = np.std(call_mc_cv1,axis=0)\n",
        "\n",
        "    if compute_iv:\n",
        "        flag = 'c'\n",
        "        imp_mc = vec_find_vol_rat(p_mc_cv1, S0, strike_array, T, 0.0, flag)\n",
        "        imp_mc_upper = vec_find_vol_rat(p_mc_cv1 + 1.96*std_mc_cv1/(np.sqrt(2*N_sims)), S0, strike_array, T, 0.0, flag)\n",
        "        imp_mc_lower = vec_find_vol_rat(p_mc_cv1 - 1.96*std_mc_cv1/(np.sqrt(2*N_sims)), S0, strike_array, T, 0.0, flag)\n",
        "\n",
        "        return p_mc_cv1, std_mc_cv1, imp_mc, imp_mc_upper, imp_mc_lower\n",
        "\n",
        "    else:\n",
        "        return p_mc_cv1,std_mc_cv1"
      ]
    },
    {
      "cell_type": "code",
      "execution_count": null,
      "id": "0fef96a0-0620-4818-bc64-28901e4eb96b",
      "metadata": {
        "id": "0fef96a0-0620-4818-bc64-28901e4eb96b"
      },
      "outputs": [],
      "source": []
    },
    {
      "cell_type": "markdown",
      "id": "b3c7a827-674e-4b9f-8c59-a22ebe21be0c",
      "metadata": {
        "id": "b3c7a827-674e-4b9f-8c59-a22ebe21be0c"
      },
      "source": [
        "# Example"
      ]
    },
    {
      "cell_type": "code",
      "execution_count": null,
      "id": "43abf9c9-7eea-450b-afd4-86768b7e47eb",
      "metadata": {
        "tags": [],
        "id": "43abf9c9-7eea-450b-afd4-86768b7e47eb"
      },
      "outputs": [],
      "source": [
        "S0 = 100.0\n",
        "tol = 1e-9\n",
        "M = 32\n",
        "truc_k=15\n",
        "eps=1/52"
      ]
    },
    {
      "cell_type": "code",
      "execution_count": null,
      "id": "6ba0d16e-2074-4066-aaf7-583a68df1cb1",
      "metadata": {
        "tags": [],
        "id": "6ba0d16e-2074-4066-aaf7-583a68df1cb1"
      },
      "outputs": [],
      "source": [
        "rho=-0.6\n",
        "alpha=-0.6\n",
        "eps = 1/52\n",
        "xi_0=0.025\n",
        "b = alpha/eps\n",
        "c = eps**alpha\n",
        "p_k = np.array([0.01,1,0,0.214,0,0.227])\n",
        "convol_p_k,A_mat,N_mat,Q_mat,k_net,db_fac_coeff = char_func_pre_calc_adaptive(b,c,p_k,M,truc_k)"
      ]
    },
    {
      "cell_type": "code",
      "execution_count": null,
      "id": "fd64f63b-d78a-4f13-a789-33c14d73ac4b",
      "metadata": {
        "tags": [],
        "id": "fd64f63b-d78a-4f13-a789-33c14d73ac4b"
      },
      "outputs": [],
      "source": [
        "T=1/52\n",
        "lm = np.linspace(-0.2,0.03,100)\n",
        "strike_array = np.exp(lm)*S0"
      ]
    },
    {
      "cell_type": "code",
      "execution_count": null,
      "id": "86edea93-d494-4dd6-bb45-aacc5e74190b",
      "metadata": {
        "id": "86edea93-d494-4dd6-bb45-aacc5e74190b"
      },
      "outputs": [],
      "source": [
        "#### The first time running the following cell can take twice or three times as long due to jit compilation"
      ]
    },
    {
      "cell_type": "code",
      "execution_count": null,
      "id": "65c6945f-1c6c-4a13-b70d-074a36138c6c",
      "metadata": {
        "tags": [],
        "id": "65c6945f-1c6c-4a13-b70d-074a36138c6c",
        "outputId": "7fb05853-b420-41ec-fb96-fd8969bcd392"
      },
      "outputs": [
        {
          "name": "stdout",
          "output_type": "stream",
          "text": [
            "CPU times: total: 3.94 s\n",
            "Wall time: 593 ms\n"
          ]
        }
      ],
      "source": [
        "%%time\n",
        "opt_price = pricing_function(S0,strike_array,rho,b,c,xi_0,T,p_k,truc_k,convol_p_k,A_mat,N_mat,Q_mat,k_net,db_fac_coeff,M,tol)\n",
        "iv_hc = vec_find_vol_rat(opt_price, S0, strike_array, T, 0.0, 'c')"
      ]
    },
    {
      "cell_type": "code",
      "execution_count": null,
      "id": "e8f7d55a-9193-4e27-94db-7d46a88c7669",
      "metadata": {
        "id": "e8f7d55a-9193-4e27-94db-7d46a88c7669"
      },
      "outputs": [],
      "source": [
        "n_steps = 800\n",
        "N_sims = 40000\n",
        "np.random.seed(42)\n",
        "w1=gen_bm_path(n_steps,N_sims)"
      ]
    },
    {
      "cell_type": "code",
      "execution_count": null,
      "id": "8c62881a-bc42-4698-8c70-8eebfc4a7acc",
      "metadata": {
        "id": "8c62881a-bc42-4698-8c70-8eebfc4a7acc",
        "outputId": "d8b54db9-68a5-447a-e285-4701c2910400"
      },
      "outputs": [
        {
          "name": "stdout",
          "output_type": "stream",
          "text": [
            "CPU times: total: 5.12 s\n",
            "Wall time: 4.31 s\n"
          ]
        }
      ],
      "source": [
        "%%time\n",
        "p_mc, std_mc, imp_mc, imp_mc_upper, imp_mc_lower = mc_quintic_fwd_var(rho,b,c,T,p_k,xi_0,S0,strike_array,n_steps,N_sims,w1,compute_iv = True)"
      ]
    },
    {
      "cell_type": "code",
      "execution_count": null,
      "id": "ef4ad86a-4470-4fd8-a579-c67518e99849",
      "metadata": {
        "id": "ef4ad86a-4470-4fd8-a579-c67518e99849",
        "outputId": "5cfe9ead-0281-4117-f52a-08f95fb8ec3a"
      },
      "outputs": [
        {
          "data": {
            "image/png": "[encoded data removed]",
            "text/plain": [
              "<Figure size 600x400 with 1 Axes>"
            ]
          },
          "metadata": {},
          "output_type": "display_data"
        }
      ],
      "source": [
        "plt.figure(1,figsize=(6,4))\n",
        "plt.plot(lm,iv_hc,c='blue',label='quintic_w_cv')\n",
        "plt.plot(lm,imp_mc_upper,c='red',ls='--',label='mc 95% CI')\n",
        "plt.plot(lm,imp_mc_lower,c='red',ls='--')\n",
        "plt.legend()\n",
        "plt.show()"
      ]
    },
    {
      "cell_type": "code",
      "execution_count": null,
      "id": "dabdd309-e04c-43dd-81b0-e36a8c99e422",
      "metadata": {
        "id": "dabdd309-e04c-43dd-81b0-e36a8c99e422"
      },
      "outputs": [],
      "source": []
    },
    {
      "cell_type": "code",
      "execution_count": null,
      "id": "1fb94b40-f54a-487f-8d89-a3b59464394e",
      "metadata": {
        "id": "1fb94b40-f54a-487f-8d89-a3b59464394e"
      },
      "outputs": [],
      "source": [
        "T=2\n",
        "lm = np.linspace(-1.5,0.35,100)\n",
        "strike_array = np.exp(lm)*S0"
      ]
    },
    {
      "cell_type": "code",
      "execution_count": null,
      "id": "836c9a3d-58e4-45c5-b4c4-dceeb707c216",
      "metadata": {
        "id": "836c9a3d-58e4-45c5-b4c4-dceeb707c216",
        "outputId": "7a622cc9-ba08-4eef-89d9-510f0fda99dd"
      },
      "outputs": [
        {
          "name": "stdout",
          "output_type": "stream",
          "text": [
            "CPU times: total: 1.22 s\n",
            "Wall time: 199 ms\n"
          ]
        }
      ],
      "source": [
        "%%time\n",
        "opt_price = pricing_function(S0,strike_array,rho,b,c,xi_0,T,p_k,truc_k,convol_p_k,A_mat,N_mat,Q_mat,k_net,db_fac_coeff,M,tol)\n",
        "iv_hc = vec_find_vol_rat(opt_price, S0, strike_array, T, 0.0, 'c')"
      ]
    },
    {
      "cell_type": "code",
      "execution_count": null,
      "id": "2662c0dc-34bd-4262-b333-dec77fc1d89d",
      "metadata": {
        "id": "2662c0dc-34bd-4262-b333-dec77fc1d89d"
      },
      "outputs": [],
      "source": [
        "n_steps = 4000\n",
        "N_sims = 40000\n",
        "np.random.seed(42)\n",
        "w1=gen_bm_path(n_steps,N_sims)"
      ]
    },
    {
      "cell_type": "code",
      "execution_count": null,
      "id": "f58fcf2d-5b2b-4e20-81f5-be5cf2c0ec55",
      "metadata": {
        "id": "f58fcf2d-5b2b-4e20-81f5-be5cf2c0ec55",
        "outputId": "f1a2ffa4-aa85-427a-8952-295828b6dd85"
      },
      "outputs": [
        {
          "name": "stdout",
          "output_type": "stream",
          "text": [
            "CPU times: total: 23.2 s\n",
            "Wall time: 22.4 s\n"
          ]
        }
      ],
      "source": [
        "%%time\n",
        "p_mc, std_mc, imp_mc, imp_mc_upper, imp_mc_lower = mc_quintic_fwd_var(rho,b,c,T,p_k,xi_0,S0,strike_array,n_steps,N_sims,w1,compute_iv = True)"
      ]
    },
    {
      "cell_type": "code",
      "execution_count": null,
      "id": "d8237ba1-b71a-4426-a9b8-403e0ebe4d26",
      "metadata": {
        "id": "d8237ba1-b71a-4426-a9b8-403e0ebe4d26",
        "outputId": "a27187d7-4633-48c3-f310-ec2e907a0bb6"
      },
      "outputs": [
        {
          "data": {
            "image/png": "[encoded data removed]",
            "text/plain": [
              "<Figure size 600x400 with 1 Axes>"
            ]
          },
          "metadata": {},
          "output_type": "display_data"
        }
      ],
      "source": [
        "plt.figure(1,figsize=(6,4))\n",
        "plt.plot(lm,iv_hc,c='blue',label='quintic_w_cv')\n",
        "plt.plot(lm,imp_mc_upper,c='red',ls='--',label='mc 95% CI')\n",
        "plt.plot(lm,imp_mc_lower,c='red',ls='--')\n",
        "plt.legend()\n",
        "plt.show()"
      ]
    },
    {
      "cell_type": "code",
      "execution_count": null,
      "id": "93ec244e-ba57-4df8-8618-cf91e3a55130",
      "metadata": {
        "id": "93ec244e-ba57-4df8-8618-cf91e3a55130"
      },
      "outputs": [],
      "source": []
    },
    {
      "cell_type": "markdown",
      "id": "efff86a4-b368-4cf5-ad9f-f1ba62aed629",
      "metadata": {
        "id": "efff86a4-b368-4cf5-ad9f-f1ba62aed629"
      },
      "source": [
        "## Bias in MC estimator for large maturities"
      ]
    },
    {
      "cell_type": "markdown",
      "id": "43e95efd-f1de-481a-8a6e-cac9d6e333fa",
      "metadata": {
        "id": "43e95efd-f1de-481a-8a6e-cac9d6e333fa"
      },
      "source": [
        "For small maturity (e.g.  $\\leq $ 3 months), the Monte Carlo bias is usually not very noticeable with respect to different step sizes.\n",
        "\n",
        "However, for large maturities e.g. $T=2$, one needs a lot of time steps in order to remove any significant bias in the Monte Carlo estimator for models of fast regime (fast mean reverion). The following examples demonstrate the potential bias in the MC estimator with coarser step size for large maturity $T=2$ years:"
      ]
    },
    {
      "cell_type": "markdown",
      "id": "9ccc7bad-489e-416b-9981-ace118dbbb2b",
      "metadata": {
        "id": "9ccc7bad-489e-416b-9981-ace118dbbb2b"
      },
      "source": [
        "### Case 1: small maturities"
      ]
    },
    {
      "cell_type": "code",
      "execution_count": null,
      "id": "6be9e30b-7f02-4ad9-9077-5a5e11cf70c3",
      "metadata": {
        "id": "6be9e30b-7f02-4ad9-9077-5a5e11cf70c3"
      },
      "outputs": [],
      "source": [
        "T=1/52\n",
        "lm = np.linspace(-0.2,0.03,100)\n",
        "strike_array = np.exp(lm)*S0"
      ]
    },
    {
      "cell_type": "code",
      "execution_count": null,
      "id": "260cc6a8-304d-49eb-8281-0d0344ee1630",
      "metadata": {
        "id": "260cc6a8-304d-49eb-8281-0d0344ee1630"
      },
      "outputs": [],
      "source": [
        "n_steps = 50\n",
        "N_sims = 40000\n",
        "np.random.seed(42)\n",
        "w1=gen_bm_path(n_steps,N_sims)\n",
        "_, _, imp_mc_50, imp_mc_upper_50, imp_mc_lower_50 = mc_quintic_fwd_var(rho,b,c,T,p_k,xi_0,S0,strike_array,n_steps,N_sims,w1,compute_iv = True)\n",
        "n_steps = 400\n",
        "N_sims = 40000\n",
        "np.random.seed(42)\n",
        "w1=gen_bm_path(n_steps,N_sims)\n",
        "_, _, imp_mc_400, imp_mc_upper_400, imp_mc_lower_400 = mc_quintic_fwd_var(rho,b,c,T,p_k,xi_0,S0,strike_array,n_steps,N_sims,w1,compute_iv = True)\n",
        "n_steps = 2000\n",
        "N_sims = 40000\n",
        "np.random.seed(42)\n",
        "w1=gen_bm_path(n_steps,N_sims)\n",
        "_, _, imp_mc_4000, imp_mc_upper_4000, imp_mc_lower_4000 = mc_quintic_fwd_var(rho,b,c,T,p_k,xi_0,S0,strike_array,n_steps,N_sims,w1,compute_iv = True)"
      ]
    },
    {
      "cell_type": "code",
      "execution_count": null,
      "id": "7b783804-1a70-4b10-a806-665d02258b87",
      "metadata": {
        "id": "7b783804-1a70-4b10-a806-665d02258b87"
      },
      "outputs": [],
      "source": [
        "opt_price = pricing_function(S0,strike_array,rho,b,c,xi_0,T,p_k,truc_k,convol_p_k,A_mat,N_mat,Q_mat,k_net,db_fac_coeff,M,tol)\n",
        "iv_hc = vec_find_vol_rat(opt_price, S0, strike_array, T, 0.0, 'c')"
      ]
    },
    {
      "cell_type": "code",
      "execution_count": null,
      "id": "c4fa43bf-cec9-49ff-9bc2-51713e6956f3",
      "metadata": {
        "id": "c4fa43bf-cec9-49ff-9bc2-51713e6956f3",
        "outputId": "9a9591d8-fe67-4723-c6bd-49aec4fcc5b0"
      },
      "outputs": [
        {
          "data": {
            "image/png": "[encoded data removed]",
            "text/plain": [
              "<Figure size 600x400 with 1 Axes>"
            ]
          },
          "metadata": {},
          "output_type": "display_data"
        }
      ],
      "source": [
        "plt.figure(1,figsize=(6,4))\n",
        "plt.plot(lm,iv_hc,c='blue',label='quintic_w_cv')\n",
        "plt.plot(lm,imp_mc_50,ls='--',label='mc 50 steps')\n",
        "plt.plot(lm,imp_mc_400,ls='--',label='mc 400 steps')\n",
        "plt.plot(lm,imp_mc_4000,ls='--',label='mc 4000 steps')\n",
        "plt.legend()\n",
        "plt.show()"
      ]
    },
    {
      "cell_type": "code",
      "execution_count": null,
      "id": "5974d15a-26dc-460b-8f03-feed9eae812b",
      "metadata": {
        "id": "5974d15a-26dc-460b-8f03-feed9eae812b"
      },
      "outputs": [],
      "source": []
    },
    {
      "cell_type": "markdown",
      "id": "cddd682d-05c3-4022-b9d1-43d327e9fe84",
      "metadata": {
        "id": "cddd682d-05c3-4022-b9d1-43d327e9fe84"
      },
      "source": [
        "### Case 2: large maturities"
      ]
    },
    {
      "cell_type": "code",
      "execution_count": null,
      "id": "60f71d82-ac85-4b2c-abf6-1e9aba614705",
      "metadata": {
        "id": "60f71d82-ac85-4b2c-abf6-1e9aba614705"
      },
      "outputs": [],
      "source": [
        "T=2\n",
        "lm = np.linspace(-1.5,0.35,100)\n",
        "strike_array = np.exp(lm)*S0"
      ]
    },
    {
      "cell_type": "code",
      "execution_count": null,
      "id": "56ea2047-2bb5-474e-bd8a-e50efcee58af",
      "metadata": {
        "id": "56ea2047-2bb5-474e-bd8a-e50efcee58af"
      },
      "outputs": [],
      "source": [
        "n_steps = 50\n",
        "N_sims = 40000\n",
        "np.random.seed(42)\n",
        "w1=gen_bm_path(n_steps,N_sims)\n",
        "_, _, imp_mc_50, imp_mc_upper_50, imp_mc_lower_50 = mc_quintic_fwd_var(rho,b,c,T,p_k,xi_0,S0,strike_array,n_steps,N_sims,w1,compute_iv = True)\n",
        "n_steps = 400\n",
        "N_sims = 40000\n",
        "np.random.seed(42)\n",
        "w1=gen_bm_path(n_steps,N_sims)\n",
        "_, _, imp_mc_400, imp_mc_upper_400, imp_mc_lower_400 = mc_quintic_fwd_var(rho,b,c,T,p_k,xi_0,S0,strike_array,n_steps,N_sims,w1,compute_iv = True)\n",
        "n_steps = 4000\n",
        "N_sims = 40000\n",
        "np.random.seed(42)\n",
        "w1=gen_bm_path(n_steps,N_sims)\n",
        "_, _, imp_mc_4000, imp_mc_upper_4000, imp_mc_lower_4000 = mc_quintic_fwd_var(rho,b,c,T,p_k,xi_0,S0,strike_array,n_steps,N_sims,w1,compute_iv = True)"
      ]
    },
    {
      "cell_type": "code",
      "execution_count": null,
      "id": "3e561b34-0790-460e-8704-afd3432aa4f2",
      "metadata": {
        "id": "3e561b34-0790-460e-8704-afd3432aa4f2"
      },
      "outputs": [],
      "source": [
        "opt_price = pricing_function(S0,strike_array,rho,b,c,xi_0,T,p_k,truc_k,convol_p_k,A_mat,N_mat,Q_mat,k_net,db_fac_coeff,M,tol)\n",
        "iv_hc = vec_find_vol_rat(opt_price, S0, strike_array, T, 0.0, 'c')"
      ]
    },
    {
      "cell_type": "code",
      "execution_count": null,
      "id": "38168007-57d3-4856-852b-96d05e96a9d7",
      "metadata": {
        "id": "38168007-57d3-4856-852b-96d05e96a9d7",
        "outputId": "ec729a30-3872-4264-d01b-fb67c64882ef"
      },
      "outputs": [
        {
          "data": {
            "image/png": "[encoded data removed]",
            "text/plain": [
              "<Figure size 600x400 with 1 Axes>"
            ]
          },
          "metadata": {},
          "output_type": "display_data"
        }
      ],
      "source": [
        "plt.figure(1,figsize=(6,4))\n",
        "plt.plot(lm,iv_hc,c='blue',label='quintic_w_cv')\n",
        "plt.plot(lm,imp_mc_50,ls='--',label='mc 50 steps')\n",
        "plt.plot(lm,imp_mc_400,ls='--',label='mc 400 steps')\n",
        "plt.plot(lm,imp_mc_4000,ls='--',label='mc 4000 steps')\n",
        "plt.legend()\n",
        "plt.show()"
      ]
    },
    {
      "cell_type": "code",
      "execution_count": null,
      "id": "8d9385c4-6a53-487b-80eb-2fe68d70d62d",
      "metadata": {
        "id": "8d9385c4-6a53-487b-80eb-2fe68d70d62d"
      },
      "outputs": [],
      "source": []
    },
    {
      "cell_type": "code",
      "execution_count": null,
      "id": "f9c1a5b4-6b55-4af1-b00f-dd72f04435f1",
      "metadata": {
        "id": "f9c1a5b4-6b55-4af1-b00f-dd72f04435f1"
      },
      "outputs": [],
      "source": []
    },
    {
      "cell_type": "markdown",
      "id": "9ca3af76-a73b-4048-babf-5ef32aa09e23",
      "metadata": {
        "id": "9ca3af76-a73b-4048-babf-5ef32aa09e23"
      },
      "source": [
        "# References"
      ]
    },
    {
      "cell_type": "markdown",
      "id": "2f630a5c-3c1b-48cd-85e1-1d35e17d3bef",
      "metadata": {
        "id": "2f630a5c-3c1b-48cd-85e1-1d35e17d3bef"
      },
      "source": [
        "1. Eduardo Abi Jaber,  Shaun (Xiaoyuan) Li and Xuyang Lin. Fourier-Laplace transforms in polynomial Ornstein-Uhlenbeck volatility models\n",
        "   \n",
        "3. Eduardo Abi Jaber, Camille Illand, and Shaun (Xiaoyuan) Li. Joint SPX–VIX calibration with gaussian polynomial volatility models: deep pricing with quantization hints. Available at SSRN 4292544, 2022\n",
        "\n",
        "4. Eduardo Abi Jaber, Camille Illand, and Shaun (Xiaoyuan) Li. The quintic ornstein-uhlenbeck volatility model that jointly calibrates SPX & VIX smiles. Risk Magazine, Cutting Edge Section, 2023\n",
        "\n",
        "5. Alan L Lewis. A simple option formula for general jump-diffusion and other exponential lévy processes. Available at SSRN 282110, 2001\n",
        "\n",
        "6. Steven L Heston. A closed-form solution for options with stochastic volatility with applications to bond and currency options. The review of financial studies, 6(2):327–343, 1993\n",
        "\n",
        "7. Eduardo Abi Jaber and Louis-Amand Gérard. Signature volatility models: pricing and hedging with fourier. Available at SSRN 4714535, 2024\n",
        "\n",
        "8. Thomas R Hurd and Zhuowei Zhou. A fourier transform method for spread option pricing. SIAM Journal on Financial Mathematics, 1(1):142–157, 2010\n",
        "\n",
        "9. Fang Fang and Cornelis W Oosterlee. A novel pricing method for european options based on fourier-cosine series expansions. SIAM Journal on Scientific Computing, 31(2):826–848, 2009\n",
        "\n",
        "10. Lorenzo Bergomi. Stochastic volatility modeling. CRC press, 2015."
      ]
    },
    {
      "cell_type": "code",
      "execution_count": null,
      "id": "66de04f2-3c2e-409b-a8c9-4f9e32e9697e",
      "metadata": {
        "id": "66de04f2-3c2e-409b-a8c9-4f9e32e9697e"
      },
      "outputs": [],
      "source": []
    },
    {
      "cell_type": "code",
      "execution_count": null,
      "id": "654f32dc-a5ff-4edb-ba64-f7cc3c5966d1",
      "metadata": {
        "id": "654f32dc-a5ff-4edb-ba64-f7cc3c5966d1"
      },
      "outputs": [],
      "source": []
    },
    {
      "cell_type": "code",
      "execution_count": null,
      "id": "38a8dc9f-dbd1-4561-86fc-7bfc8e17c76e",
      "metadata": {
        "id": "38a8dc9f-dbd1-4561-86fc-7bfc8e17c76e"
      },
      "outputs": [],
      "source": []
    }
  ],
  "metadata": {
    "kernelspec": {
      "display_name": "Python 3 (ipykernel)",
      "language": "python",
      "name": "python3"
    },
    "language_info": {
      "codemirror_mode": {
        "name": "ipython",
        "version": 3
      },
      "file_extension": ".py",
      "mimetype": "text/x-python",
      "name": "python",
      "nbconvert_exporter": "python",
      "pygments_lexer": "ipython3",
      "version": "3.9.18"
    },
    "colab": {
      "provenance": [],
      "include_colab_link": true
    }
  },
  "nbformat": 4,
  "nbformat_minor": 5
}