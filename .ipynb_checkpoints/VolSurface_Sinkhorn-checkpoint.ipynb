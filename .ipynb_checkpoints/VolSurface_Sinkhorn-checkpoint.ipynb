{
 "cells": [
  {
   "cell_type": "code",
   "execution_count": 609,
   "id": "6ec7b981",
   "metadata": {},
   "outputs": [],
   "source": [
    "import numpy as np\n",
    "import pandas as pd\n",
    "import matplotlib.pyplot as plt\n",
    "import math \n",
    "\n",
    "from scipy.stats import norm\n",
    "from scipy.optimize import fsolve\n",
    "from scipy.optimize import minimize\n",
    "import scipy.integrate as integrate\n",
    "from scipy import special\n"
   ]
  },
  {
   "cell_type": "code",
   "execution_count": 610,
   "id": "7940617d",
   "metadata": {},
   "outputs": [
    {
     "data": {
      "text/html": [
       "<div>\n",
       "<style scoped>\n",
       "    .dataframe tbody tr th:only-of-type {\n",
       "        vertical-align: middle;\n",
       "    }\n",
       "\n",
       "    .dataframe tbody tr th {\n",
       "        vertical-align: top;\n",
       "    }\n",
       "\n",
       "    .dataframe thead th {\n",
       "        text-align: right;\n",
       "    }\n",
       "</style>\n",
       "<table border=\"1\" class=\"dataframe\">\n",
       "  <thead>\n",
       "    <tr style=\"text-align: right;\">\n",
       "      <th></th>\n",
       "      <th>Calls</th>\n",
       "      <th>Last Sale</th>\n",
       "      <th>Net</th>\n",
       "      <th>Bid</th>\n",
       "      <th>Ask</th>\n",
       "      <th>Volume</th>\n",
       "      <th>IV</th>\n",
       "      <th>Delta</th>\n",
       "      <th>Gamma</th>\n",
       "      <th>Open Interest</th>\n",
       "      <th>Strike</th>\n",
       "      <th>Strike/Spot</th>\n",
       "      <th>Mid</th>\n",
       "    </tr>\n",
       "  </thead>\n",
       "  <tbody>\n",
       "    <tr>\n",
       "      <th>0</th>\n",
       "      <td>AMD230414C00083000</td>\n",
       "      <td>9.72</td>\n",
       "      <td>-0.105</td>\n",
       "      <td>9.55</td>\n",
       "      <td>9.80</td>\n",
       "      <td>166</td>\n",
       "      <td>0.4442</td>\n",
       "      <td>0.9452</td>\n",
       "      <td>0.0172</td>\n",
       "      <td>293</td>\n",
       "      <td>83.0</td>\n",
       "      <td>0.899242</td>\n",
       "      <td>9.675</td>\n",
       "    </tr>\n",
       "    <tr>\n",
       "      <th>1</th>\n",
       "      <td>AMD230414C00084000</td>\n",
       "      <td>9.05</td>\n",
       "      <td>0.150</td>\n",
       "      <td>8.65</td>\n",
       "      <td>8.85</td>\n",
       "      <td>22</td>\n",
       "      <td>0.4504</td>\n",
       "      <td>0.9287</td>\n",
       "      <td>0.0217</td>\n",
       "      <td>225</td>\n",
       "      <td>84.0</td>\n",
       "      <td>0.910076</td>\n",
       "      <td>8.750</td>\n",
       "    </tr>\n",
       "    <tr>\n",
       "      <th>2</th>\n",
       "      <td>AMD230414C00085000</td>\n",
       "      <td>8.10</td>\n",
       "      <td>0.075</td>\n",
       "      <td>7.70</td>\n",
       "      <td>7.90</td>\n",
       "      <td>134</td>\n",
       "      <td>0.4427</td>\n",
       "      <td>0.9068</td>\n",
       "      <td>0.0272</td>\n",
       "      <td>867</td>\n",
       "      <td>85.0</td>\n",
       "      <td>0.920910</td>\n",
       "      <td>7.800</td>\n",
       "    </tr>\n",
       "    <tr>\n",
       "      <th>3</th>\n",
       "      <td>AMD230414C00086000</td>\n",
       "      <td>7.00</td>\n",
       "      <td>-0.125</td>\n",
       "      <td>6.80</td>\n",
       "      <td>7.00</td>\n",
       "      <td>77</td>\n",
       "      <td>0.4352</td>\n",
       "      <td>0.8782</td>\n",
       "      <td>0.0337</td>\n",
       "      <td>569</td>\n",
       "      <td>86.0</td>\n",
       "      <td>0.931744</td>\n",
       "      <td>6.900</td>\n",
       "    </tr>\n",
       "    <tr>\n",
       "      <th>4</th>\n",
       "      <td>AMD230414C00087000</td>\n",
       "      <td>6.20</td>\n",
       "      <td>-0.125</td>\n",
       "      <td>5.95</td>\n",
       "      <td>6.15</td>\n",
       "      <td>101</td>\n",
       "      <td>0.4259</td>\n",
       "      <td>0.8417</td>\n",
       "      <td>0.0409</td>\n",
       "      <td>544</td>\n",
       "      <td>87.0</td>\n",
       "      <td>0.942579</td>\n",
       "      <td>6.050</td>\n",
       "    </tr>\n",
       "    <tr>\n",
       "      <th>5</th>\n",
       "      <td>AMD230414C00088000</td>\n",
       "      <td>5.50</td>\n",
       "      <td>-0.050</td>\n",
       "      <td>5.15</td>\n",
       "      <td>5.30</td>\n",
       "      <td>192</td>\n",
       "      <td>0.4269</td>\n",
       "      <td>0.7974</td>\n",
       "      <td>0.0483</td>\n",
       "      <td>457</td>\n",
       "      <td>88.0</td>\n",
       "      <td>0.953413</td>\n",
       "      <td>5.225</td>\n",
       "    </tr>\n",
       "    <tr>\n",
       "      <th>6</th>\n",
       "      <td>AMD230414C00089000</td>\n",
       "      <td>4.50</td>\n",
       "      <td>-0.300</td>\n",
       "      <td>4.40</td>\n",
       "      <td>4.50</td>\n",
       "      <td>165</td>\n",
       "      <td>0.4155</td>\n",
       "      <td>0.7456</td>\n",
       "      <td>0.0556</td>\n",
       "      <td>934</td>\n",
       "      <td>89.0</td>\n",
       "      <td>0.964247</td>\n",
       "      <td>4.450</td>\n",
       "    </tr>\n",
       "    <tr>\n",
       "      <th>7</th>\n",
       "      <td>AMD230414C00090000</td>\n",
       "      <td>3.76</td>\n",
       "      <td>-0.340</td>\n",
       "      <td>3.70</td>\n",
       "      <td>3.80</td>\n",
       "      <td>817</td>\n",
       "      <td>0.4147</td>\n",
       "      <td>0.6869</td>\n",
       "      <td>0.0622</td>\n",
       "      <td>1864</td>\n",
       "      <td>90.0</td>\n",
       "      <td>0.975081</td>\n",
       "      <td>3.750</td>\n",
       "    </tr>\n",
       "    <tr>\n",
       "      <th>8</th>\n",
       "      <td>AMD230414C00091000</td>\n",
       "      <td>3.07</td>\n",
       "      <td>-0.380</td>\n",
       "      <td>3.05</td>\n",
       "      <td>3.15</td>\n",
       "      <td>1194</td>\n",
       "      <td>0.4062</td>\n",
       "      <td>0.6223</td>\n",
       "      <td>0.0677</td>\n",
       "      <td>1272</td>\n",
       "      <td>91.0</td>\n",
       "      <td>0.985915</td>\n",
       "      <td>3.100</td>\n",
       "    </tr>\n",
       "    <tr>\n",
       "      <th>9</th>\n",
       "      <td>AMD230414C00092000</td>\n",
       "      <td>2.50</td>\n",
       "      <td>-0.365</td>\n",
       "      <td>2.48</td>\n",
       "      <td>2.50</td>\n",
       "      <td>8647</td>\n",
       "      <td>0.4024</td>\n",
       "      <td>0.5529</td>\n",
       "      <td>0.0714</td>\n",
       "      <td>1637</td>\n",
       "      <td>92.0</td>\n",
       "      <td>0.996750</td>\n",
       "      <td>2.490</td>\n",
       "    </tr>\n",
       "    <tr>\n",
       "      <th>10</th>\n",
       "      <td>AMD230414C00093000</td>\n",
       "      <td>1.98</td>\n",
       "      <td>-0.375</td>\n",
       "      <td>1.95</td>\n",
       "      <td>1.99</td>\n",
       "      <td>8374</td>\n",
       "      <td>0.3973</td>\n",
       "      <td>0.4806</td>\n",
       "      <td>0.0730</td>\n",
       "      <td>2744</td>\n",
       "      <td>93.0</td>\n",
       "      <td>1.007584</td>\n",
       "      <td>1.970</td>\n",
       "    </tr>\n",
       "    <tr>\n",
       "      <th>11</th>\n",
       "      <td>AMD230414C00094000</td>\n",
       "      <td>1.52</td>\n",
       "      <td>-0.380</td>\n",
       "      <td>1.52</td>\n",
       "      <td>1.54</td>\n",
       "      <td>2590</td>\n",
       "      <td>0.3928</td>\n",
       "      <td>0.4081</td>\n",
       "      <td>0.0719</td>\n",
       "      <td>1484</td>\n",
       "      <td>94.0</td>\n",
       "      <td>1.018418</td>\n",
       "      <td>1.530</td>\n",
       "    </tr>\n",
       "    <tr>\n",
       "      <th>12</th>\n",
       "      <td>AMD230414C00095000</td>\n",
       "      <td>1.16</td>\n",
       "      <td>-0.350</td>\n",
       "      <td>1.15</td>\n",
       "      <td>1.17</td>\n",
       "      <td>7877</td>\n",
       "      <td>0.3879</td>\n",
       "      <td>0.3382</td>\n",
       "      <td>0.0683</td>\n",
       "      <td>5239</td>\n",
       "      <td>95.0</td>\n",
       "      <td>1.029252</td>\n",
       "      <td>1.160</td>\n",
       "    </tr>\n",
       "    <tr>\n",
       "      <th>13</th>\n",
       "      <td>AMD230414C00096000</td>\n",
       "      <td>0.85</td>\n",
       "      <td>-0.330</td>\n",
       "      <td>0.84</td>\n",
       "      <td>0.89</td>\n",
       "      <td>1653</td>\n",
       "      <td>0.3867</td>\n",
       "      <td>0.2738</td>\n",
       "      <td>0.0625</td>\n",
       "      <td>2729</td>\n",
       "      <td>96.0</td>\n",
       "      <td>1.040087</td>\n",
       "      <td>0.865</td>\n",
       "    </tr>\n",
       "    <tr>\n",
       "      <th>14</th>\n",
       "      <td>AMD230414C00097000</td>\n",
       "      <td>0.63</td>\n",
       "      <td>-0.285</td>\n",
       "      <td>0.62</td>\n",
       "      <td>0.64</td>\n",
       "      <td>1712</td>\n",
       "      <td>0.3856</td>\n",
       "      <td>0.2169</td>\n",
       "      <td>0.0552</td>\n",
       "      <td>2929</td>\n",
       "      <td>97.0</td>\n",
       "      <td>1.050921</td>\n",
       "      <td>0.630</td>\n",
       "    </tr>\n",
       "    <tr>\n",
       "      <th>15</th>\n",
       "      <td>AMD230414C00098000</td>\n",
       "      <td>0.46</td>\n",
       "      <td>-0.235</td>\n",
       "      <td>0.45</td>\n",
       "      <td>0.47</td>\n",
       "      <td>2173</td>\n",
       "      <td>0.3871</td>\n",
       "      <td>0.1685</td>\n",
       "      <td>0.0473</td>\n",
       "      <td>3237</td>\n",
       "      <td>98.0</td>\n",
       "      <td>1.061755</td>\n",
       "      <td>0.460</td>\n",
       "    </tr>\n",
       "    <tr>\n",
       "      <th>16</th>\n",
       "      <td>AMD230414C00099000</td>\n",
       "      <td>0.32</td>\n",
       "      <td>-0.215</td>\n",
       "      <td>0.32</td>\n",
       "      <td>0.34</td>\n",
       "      <td>1048</td>\n",
       "      <td>0.3888</td>\n",
       "      <td>0.1286</td>\n",
       "      <td>0.0392</td>\n",
       "      <td>1770</td>\n",
       "      <td>99.0</td>\n",
       "      <td>1.072589</td>\n",
       "      <td>0.330</td>\n",
       "    </tr>\n",
       "    <tr>\n",
       "      <th>17</th>\n",
       "      <td>AMD230414C00100000</td>\n",
       "      <td>0.24</td>\n",
       "      <td>-0.165</td>\n",
       "      <td>0.23</td>\n",
       "      <td>0.24</td>\n",
       "      <td>2154</td>\n",
       "      <td>0.3910</td>\n",
       "      <td>0.0974</td>\n",
       "      <td>0.0319</td>\n",
       "      <td>5141</td>\n",
       "      <td>100.0</td>\n",
       "      <td>1.083424</td>\n",
       "      <td>0.235</td>\n",
       "    </tr>\n",
       "    <tr>\n",
       "      <th>18</th>\n",
       "      <td>AMD230414C00101000</td>\n",
       "      <td>0.18</td>\n",
       "      <td>-0.135</td>\n",
       "      <td>0.16</td>\n",
       "      <td>0.18</td>\n",
       "      <td>560</td>\n",
       "      <td>0.3958</td>\n",
       "      <td>0.0735</td>\n",
       "      <td>0.0255</td>\n",
       "      <td>1258</td>\n",
       "      <td>101.0</td>\n",
       "      <td>1.094258</td>\n",
       "      <td>0.170</td>\n",
       "    </tr>\n",
       "    <tr>\n",
       "      <th>19</th>\n",
       "      <td>AMD230414C00102000</td>\n",
       "      <td>0.13</td>\n",
       "      <td>-0.105</td>\n",
       "      <td>0.12</td>\n",
       "      <td>0.14</td>\n",
       "      <td>708</td>\n",
       "      <td>0.4024</td>\n",
       "      <td>0.0555</td>\n",
       "      <td>0.0202</td>\n",
       "      <td>1659</td>\n",
       "      <td>102.0</td>\n",
       "      <td>1.105092</td>\n",
       "      <td>0.130</td>\n",
       "    </tr>\n",
       "  </tbody>\n",
       "</table>\n",
       "</div>"
      ],
      "text/plain": [
       "                 Calls  Last Sale    Net   Bid   Ask  Volume      IV   Delta   \n",
       "0   AMD230414C00083000       9.72 -0.105  9.55  9.80     166  0.4442  0.9452  \\\n",
       "1   AMD230414C00084000       9.05  0.150  8.65  8.85      22  0.4504  0.9287   \n",
       "2   AMD230414C00085000       8.10  0.075  7.70  7.90     134  0.4427  0.9068   \n",
       "3   AMD230414C00086000       7.00 -0.125  6.80  7.00      77  0.4352  0.8782   \n",
       "4   AMD230414C00087000       6.20 -0.125  5.95  6.15     101  0.4259  0.8417   \n",
       "5   AMD230414C00088000       5.50 -0.050  5.15  5.30     192  0.4269  0.7974   \n",
       "6   AMD230414C00089000       4.50 -0.300  4.40  4.50     165  0.4155  0.7456   \n",
       "7   AMD230414C00090000       3.76 -0.340  3.70  3.80     817  0.4147  0.6869   \n",
       "8   AMD230414C00091000       3.07 -0.380  3.05  3.15    1194  0.4062  0.6223   \n",
       "9   AMD230414C00092000       2.50 -0.365  2.48  2.50    8647  0.4024  0.5529   \n",
       "10  AMD230414C00093000       1.98 -0.375  1.95  1.99    8374  0.3973  0.4806   \n",
       "11  AMD230414C00094000       1.52 -0.380  1.52  1.54    2590  0.3928  0.4081   \n",
       "12  AMD230414C00095000       1.16 -0.350  1.15  1.17    7877  0.3879  0.3382   \n",
       "13  AMD230414C00096000       0.85 -0.330  0.84  0.89    1653  0.3867  0.2738   \n",
       "14  AMD230414C00097000       0.63 -0.285  0.62  0.64    1712  0.3856  0.2169   \n",
       "15  AMD230414C00098000       0.46 -0.235  0.45  0.47    2173  0.3871  0.1685   \n",
       "16  AMD230414C00099000       0.32 -0.215  0.32  0.34    1048  0.3888  0.1286   \n",
       "17  AMD230414C00100000       0.24 -0.165  0.23  0.24    2154  0.3910  0.0974   \n",
       "18  AMD230414C00101000       0.18 -0.135  0.16  0.18     560  0.3958  0.0735   \n",
       "19  AMD230414C00102000       0.13 -0.105  0.12  0.14     708  0.4024  0.0555   \n",
       "\n",
       "     Gamma  Open Interest  Strike  Strike/Spot    Mid  \n",
       "0   0.0172            293    83.0     0.899242  9.675  \n",
       "1   0.0217            225    84.0     0.910076  8.750  \n",
       "2   0.0272            867    85.0     0.920910  7.800  \n",
       "3   0.0337            569    86.0     0.931744  6.900  \n",
       "4   0.0409            544    87.0     0.942579  6.050  \n",
       "5   0.0483            457    88.0     0.953413  5.225  \n",
       "6   0.0556            934    89.0     0.964247  4.450  \n",
       "7   0.0622           1864    90.0     0.975081  3.750  \n",
       "8   0.0677           1272    91.0     0.985915  3.100  \n",
       "9   0.0714           1637    92.0     0.996750  2.490  \n",
       "10  0.0730           2744    93.0     1.007584  1.970  \n",
       "11  0.0719           1484    94.0     1.018418  1.530  \n",
       "12  0.0683           5239    95.0     1.029252  1.160  \n",
       "13  0.0625           2729    96.0     1.040087  0.865  \n",
       "14  0.0552           2929    97.0     1.050921  0.630  \n",
       "15  0.0473           3237    98.0     1.061755  0.460  \n",
       "16  0.0392           1770    99.0     1.072589  0.330  \n",
       "17  0.0319           5141   100.0     1.083424  0.235  \n",
       "18  0.0255           1258   101.0     1.094258  0.170  \n",
       "19  0.0202           1659   102.0     1.105092  0.130  "
      ]
     },
     "execution_count": 610,
     "metadata": {},
     "output_type": "execute_result"
    }
   ],
   "source": [
    "# Preprocessing\n",
    "amd_quotes = pd.read_csv('amd_quotedata.csv', parse_dates=['Expiration Date'], index_col=['Expiration Date'])\n",
    "amd_calls = amd_quotes.iloc[:,0:11]\n",
    "\n",
    "S0_amd = 92.3\n",
    "amd_calls['Strike/Spot'] = amd_calls['Strike']/S0_amd\n",
    "amd_calls['Mid'] = (amd_calls['Bid']+amd_calls['Ask'])/2\n",
    "C1 = amd_calls.loc['2023-04-14']\n",
    "C1 = C1.reset_index(drop=True)\n",
    "C1"
   ]
  },
  {
   "cell_type": "code",
   "execution_count": 611,
   "id": "7f602c5b",
   "metadata": {},
   "outputs": [],
   "source": [
    "def iv(p,K,T,r,S0):\n",
    "    \"\"\"\n",
    "    Calculate implied volatility using Black-Scholes formula\n",
    "    \n",
    "    Parameters:\n",
    "    p (float): Market price(s) of the option\n",
    "    K (float): Strike price(s) of the option\n",
    "    T (float): Time to expiry of the option, in years\n",
    "    r (float): Risk-free interest rate, as a decimal\n",
    "    S0 (float): Current price of the underlying asset\n",
    "    \"\"\"\n",
    "    \n",
    "    d1 = lambda sigma: (np.log(S0/K) + (r + 0.5*(sigma**2))*T) / (sigma*np.sqrt(T))\n",
    "    d2 = lambda sigma: d1(sigma) - sigma*np.sqrt(T)\n",
    "    option_price = lambda sigma: S0*norm.cdf(d1(sigma)) - K*np.exp(-r*T)*norm.cdf(d2(sigma))\n",
    "    option_price_diff = lambda sigma: option_price(sigma) - p\n",
    "    \n",
    "    return fsolve(option_price_diff, 0.2*np.ones(len(p)))"
   ]
  },
  {
   "cell_type": "code",
   "execution_count": 612,
   "id": "c7a34d6b",
   "metadata": {},
   "outputs": [],
   "source": [
    "# Which risk-free interest rate is used?\n",
    "#iv_diff = lambda r: np.linalg.norm(iv(np.array(amd_calls_t1['Mid']),np.array(amd_calls_t1['Strike']),6/252,r,S0) - np.array(amd_calls_t1['IV']))\n",
    "#r_ = minimize(iv_diff, 0.01)\n",
    "#print(r_)"
   ]
  },
  {
   "cell_type": "code",
   "execution_count": 613,
   "id": "320f746d",
   "metadata": {},
   "outputs": [
    {
     "data": {
      "image/png": "[encoded data removed]",
      "text/plain": [
       "<Figure size 432x288 with 1 Axes>"
      ]
     },
     "metadata": {
      "needs_background": "light"
     },
     "output_type": "display_data"
    }
   ],
   "source": [
    "r = 0.01 # TODO: figure out r\n",
    "ask = np.array(C1['Ask'])\n",
    "bid = np.array(C1['Bid'])\n",
    "mid = np.array(C1['Mid'])\n",
    "K = np.array(C1['Strike'])\n",
    "numK = len(K)\n",
    "t1 = 6/252\n",
    "# Plot data\n",
    "fig, ax = plt.subplots()\n",
    "ax.plot(np.array(C1['Strike/Spot']), np.array(iv(bid,K,t1,r,S0)), 'b.', label='Bid')\n",
    "ax.plot(np.array(C1['Strike/Spot']), np.array(iv(ask,K,t1,r,S0)), 'g.', label='Ask')\n",
    "ax.plot(np.array(C1['Strike/Spot']), np.array(iv(mid,K,t1,r,S0)), 'r--', label='Mid')\n",
    "plt.legend()\n",
    "plt.show()"
   ]
  },
  {
   "cell_type": "code",
   "execution_count": 614,
   "id": "0bfa553e",
   "metadata": {},
   "outputs": [
    {
     "name": "stderr",
     "output_type": "stream",
     "text": [
      "/var/folders/g9/6f30xmfd3r3br8s467bvpdg40000gn/T/ipykernel_1306/2333435632.py:7: RuntimeWarning: divide by zero encountered in true_divide\n",
      "  B = lambda s,t,k,sig: 1/2 * (s-k) * special.erf((k-s)/(np.sqrt(2*t)*sig)) + sig*np.sqrt(t/(2*math.pi))*np.exp(-(k-s)**2/(2*t*sig**2))\n"
     ]
    },
    {
     "data": {
      "image/png": "[encoded data removed]",
      "text/plain": [
       "<Figure size 432x288 with 1 Axes>"
      ]
     },
     "metadata": {
      "needs_background": "light"
     },
     "output_type": "display_data"
    }
   ],
   "source": [
    "# Determine sig0\n",
    "Lambda = 0.1\n",
    "omega_K = Lambda * np.abs(ask - bid)\n",
    "\n",
    "def M(sig):\n",
    "    M = 0\n",
    "    B = lambda s,t,k,sig: 1/2 * (s-k) * special.erf((k-s)/(np.sqrt(2*t)*sig)) + sig*np.sqrt(t/(2*math.pi))*np.exp(-(k-s)**2/(2*t*sig**2))\n",
    "    for i in range(numK):\n",
    "        M += (B(S0,t1,K[i],sig)-m[i])**2\n",
    "    return M\n",
    "\n",
    "ss = np.linspace(0,200,num=10000)\n",
    "plt.plot(ss,M(ss))\n",
    "sig0_ = minimize(M, 75)\n",
    "sig0 = sig0_.x[0]"
   ]
  },
  {
   "cell_type": "code",
   "execution_count": 615,
   "id": "e1aedf15",
   "metadata": {},
   "outputs": [
    {
     "data": {
      "text/plain": [
       "[<matplotlib.lines.Line2D at 0x7f7e1a8e4610>]"
      ]
     },
     "execution_count": 615,
     "metadata": {},
     "output_type": "execute_result"
    },
    {
     "data": {
      "image/png": "[encoded data removed]",
      "text/plain": [
       "<Figure size 432x288 with 1 Axes>"
      ]
     },
     "metadata": {
      "needs_background": "light"
     },
     "output_type": "display_data"
    }
   ],
   "source": [
    "# Find m0\n",
    "mu = S0\n",
    "sd = sig0*np.sqrt(t1)\n",
    "m0 = lambda x: (1/(np.sqrt(2*math.pi)*sd)) * np.exp(-1/2*((x-mu)/sd)**2) * (x >= 0)\n",
    "\n",
    "xx = np.linspace(0,140,num=10000)\n",
    "plt.plot(xx,m0(xx))\n",
    "# integrate.quad(lambda x: m0(x), 0, 200)[0] # Normalization not needed in practice: very close to 1"
   ]
  },
  {
   "cell_type": "code",
   "execution_count": 616,
   "id": "8ff9761e",
   "metadata": {},
   "outputs": [],
   "source": [
    "# Define functions in minimization problem\n",
    "def f1(V,omega):\n",
    "    delta_C_bid = bid - mid\n",
    "    delta_C_ask = ask - mid\n",
    "    l = np.zeros(numK)\n",
    "    \n",
    "    for i in range(numK):\n",
    "        if (V[i]*omega[i] <= delta_C_ask[i]) and (V[i]*omega[i] >= delta_C_bid[i]):\n",
    "            l[i] = V[i]*V[i]*omega[i]/2\n",
    "        elif V[i]*omega[i] > delta_C_ask[i]:\n",
    "            l[i] = delta_C_ask[i]*V[i] - delta_C_ask[i]**2/(2*omega[i])\n",
    "        elif V[i]*omega[i] < delta_C_bid[i]: \n",
    "            l[i] = delta_C_bid[i]*V[i] - delta_C_bid[i]**2/(2*omega[i])\n",
    "            \n",
    "    return l\n",
    "\n",
    "\n",
    "def Y(u0,h0,V,x):\n",
    "    y = 0\n",
    "    for i in range(numK):\n",
    "        y += V[i]*(x-K[i]) * ((x-K[i])>=0) + (u0 + h0*(x-S0))\n",
    "    \n",
    "    #y += (u0 + h0*(x-S0))\n",
    "    return y\n",
    "    \n",
    "\n",
    "def G1(p): \n",
    "    u0, h0, V = p[0], p[1], p[2:]\n",
    "    #return u0 + np.sum(f1(V,omega_K)) + np.sum(V*m) + integrate.quad(lambda x: np.exp(-Y(u0,h0,V,x))  *  m0(x), 0, np.inf)[0]\n",
    "    return u0 + np.sum(f1(V,omega_K)) + np.sum(V*m) + integrate.quad(lambda x: np.exp(-Y(u0,h0,V,x))  *  m0(x), 0, 140)[0]\n"
   ]
  },
  {
   "cell_type": "code",
   "execution_count": 617,
   "id": "8913a4b5",
   "metadata": {},
   "outputs": [
    {
     "data": {
      "text/plain": [
       "[<matplotlib.lines.Line2D at 0x7f7e1a990df0>]"
      ]
     },
     "execution_count": 617,
     "metadata": {},
     "output_type": "execute_result"
    },
    {
     "data": {
      "image/png": "[encoded data removed]",
      "text/plain": [
       "<Figure size 432x288 with 1 Axes>"
      ]
     },
     "metadata": {
      "needs_background": "light"
     },
     "output_type": "display_data"
    }
   ],
   "source": [
    "xx = np.linspace(0,140,num=10000)\n",
    "plt.plot(xx,m0(xx))"
   ]
  },
  {
   "cell_type": "code",
   "execution_count": 618,
   "id": "4954d32f",
   "metadata": {},
   "outputs": [
    {
     "data": {
      "text/plain": [
       "[<matplotlib.lines.Line2D at 0x7f7e1af13f10>]"
      ]
     },
     "execution_count": 618,
     "metadata": {},
     "output_type": "execute_result"
    },
    {
     "data": {
      "image/png": "[encoded data removed]",
      "text/plain": [
       "<Figure size 432x288 with 1 Axes>"
      ]
     },
     "metadata": {
      "needs_background": "light"
     },
     "output_type": "display_data"
    }
   ],
   "source": [
    "u1, h1, V = 0., 0., [0.]*(numK)\n",
    "plt.plot(xx,np.exp(-Y(u1,h1,V,xx)))"
   ]
  },
  {
   "cell_type": "code",
   "execution_count": 619,
   "id": "81c7a35c",
   "metadata": {},
   "outputs": [
    {
     "data": {
      "text/plain": [
       "[<matplotlib.lines.Line2D at 0x7f7e1ad073d0>]"
      ]
     },
     "execution_count": 619,
     "metadata": {},
     "output_type": "execute_result"
    },
    {
     "data": {
      "image/png": "[encoded data removed]",
      "text/plain": [
       "<Figure size 432x288 with 1 Axes>"
      ]
     },
     "metadata": {
      "needs_background": "light"
     },
     "output_type": "display_data"
    }
   ],
   "source": [
    "plt.plot(xx, np.exp(-Y(u1,h1,V,xx))  *  m0(xx))"
   ]
  },
  {
   "cell_type": "code",
   "execution_count": 620,
   "id": "3b34f3a0",
   "metadata": {},
   "outputs": [],
   "source": [
    "p0 = np.array([u1] + [h1] + V)\n",
    "a, b, n = 60, 120, 10000\n",
    "X1 = np.linspace(a,b,n) # Discrete grid\n",
    "P1 = lambda x:(1/(np.sqrt(2*math.pi)*1e-1)) * np.exp(-1/2*((x-S0)/1e-1)**2) * (x >= 0) # Approximation of Dirac delta around \n"
   ]
  },
  {
   "cell_type": "code",
   "execution_count": 631,
   "id": "739e13a7",
   "metadata": {},
   "outputs": [
    {
     "name": "stderr",
     "output_type": "stream",
     "text": [
      "/var/folders/g9/6f30xmfd3r3br8s467bvpdg40000gn/T/ipykernel_1306/1473021143.py:6: RuntimeWarning: divide by zero encountered in true_divide\n",
      "  B = lambda s,t,k,sig: 1/2 * (s-k) * special.erf((k-s)/(np.sqrt(2*t)*sig)) + sig*np.sqrt(t/(2*math.pi))*np.exp(-(k-s)**2/(2*t*sig**2))\n"
     ]
    },
    {
     "data": {
      "text/plain": [
       "      fun: 253.8287107689561\n",
       " hess_inv: array([[4.57441373e-04, 0.00000000e+00],\n",
       "       [0.00000000e+00, 1.00000000e+00]])\n",
       "      jac: array([3.81469727e-06, 0.00000000e+00])\n",
       "  message: 'Optimization terminated successfully.'\n",
       "     nfev: 24\n",
       "      nit: 5\n",
       "     njev: 8\n",
       "   status: 0\n",
       "  success: True\n",
       "        x: array([0.89130285, 1.        ])"
      ]
     },
     "execution_count": 631,
     "metadata": {},
     "output_type": "execute_result"
    },
    {
     "data": {
      "image/png": "[encoded data removed]",
      "text/plain": [
       "<Figure size 432x288 with 1 Axes>"
      ]
     },
     "metadata": {
      "needs_background": "light"
     },
     "output_type": "display_data"
    }
   ],
   "source": [
    "# Find m0\n",
    "def M(p):\n",
    "    sig, beta = p[0], p[1]\n",
    "    beta = 1 # TODO: take beta different from 1\n",
    "    M = 0\n",
    "    B = lambda s,t,k,sig: 1/2 * (s-k) * special.erf((k-s)/(np.sqrt(2*t)*sig)) + sig*np.sqrt(t/(2*math.pi))*np.exp(-(k-s)**2/(2*t*sig**2))\n",
    "    for i in range(numK):\n",
    "        M += (B(S0,t1,K[i],sig*S0**beta)-m[i])**2\n",
    "    return M\n",
    "\n",
    "sigma0, beta = minimize(M, np.array([75/S0,1])) #sigma0, beta\n",
    "\n",
    "def m0(s1,s2): # Joint distribution of S1 and S2\n",
    "    return (s1 >= 0) *  (1/(np.sqrt(2*math.pi)*(sigma0*s1))) * np.exp(-1/2*((s1-S0)/(sigma0*s1))**2)  *  (1/(np.sqrt(2*math.pi)*sigma0*s1**beta*sqrt(t1)) * np.exp(-1/2*((s2-s1)/(sigma0*s1**beta*sqrt(t1)))**2)\n",
    "\n",
    "def Y(theta,V,s1,x):\n",
    "    y = 0\n",
    "    for i in range(numK):\n",
    "        y += V[i]*(x-K[i]) * ((x-K[i])>=0) \n",
    "    y += theta*(x-s1)                                                                                                   \n",
    "    return y\n",
    "                                                                                                          \n",
    "def I_u(theta,V,S1):\n",
    "    return integrate.quad(lambda s2: np.exp(-Y(theta,V,S1,s2))  *  m0(S1,s2), 60, 110)[0]        \n",
    "                                                                                                          \n",
    "def I_h(theta,V,S1):\n",
    "    return integrate.quad(lambda s2: np.exp(-Y(theta,V,S1,s2)) * (s2-S1) * m0(S1,s2), 60, 110)[0]                                                                                \n",
    "\n",
    "#mu = S0\n",
    "#sd = sig0*np.sqrt(t1)\n",
    "#P_sig0 = lambda x: (1/(np.sqrt(2*math.pi)*sd)) * np.exp(-1/2*((x-mu)/sd)**2) * (x >= 0)\n",
    "\n"
   ]
  },
  {
   "cell_type": "code",
   "execution_count": null,
   "id": "21ca1b60",
   "metadata": {},
   "outputs": [],
   "source": [
    "xx = np.linspace(0,140,num=10000)\n",
    "plt.plot(xx,m0(xx))\n",
    "# integrate.quad(lambda x: m0(x), 0, 200)[0] # Normalization not needed in practice: very close to 1\n",
    "\n",
    "for s1 in X1: \n",
    "    # Step 2\n",
    "    # Solve for h1\n",
    "    I_h(theta,V,S1) = "
   ]
  },
  {
   "cell_type": "code",
   "execution_count": 600,
   "id": "2cdc7fca",
   "metadata": {},
   "outputs": [],
   "source": [
    "u0_star, h0_star, V_star = res.x[0], res.x[1], res.x[2:]\n",
    "P_star = lambda x: m0(x) * np.exp(-Y(u0_star,h0_star,V_star,x))"
   ]
  },
  {
   "cell_type": "code",
   "execution_count": null,
   "id": "67b8e1a6",
   "metadata": {},
   "outputs": [],
   "source": []
  },
  {
   "cell_type": "code",
   "execution_count": null,
   "id": "88556b7c",
   "metadata": {
    "scrolled": true
   },
   "outputs": [],
   "source": []
  },
  {
   "cell_type": "code",
   "execution_count": null,
   "id": "e3adf631",
   "metadata": {},
   "outputs": [],
   "source": []
  },
  {
   "cell_type": "code",
   "execution_count": 601,
   "id": "108e0fa5",
   "metadata": {},
   "outputs": [
    {
     "data": {
      "text/plain": [
       "[<matplotlib.lines.Line2D at 0x7f7e18e51df0>]"
      ]
     },
     "execution_count": 601,
     "metadata": {},
     "output_type": "execute_result"
    },
    {
     "data": {
      "image/png": "[encoded data removed]",
      "text/plain": [
       "<Figure size 432x288 with 1 Axes>"
      ]
     },
     "metadata": {
      "needs_background": "light"
     },
     "output_type": "display_data"
    }
   ],
   "source": [
    "u0, h0, V = 0.1, 0.1, 0.1*np.ones(numK)\n",
    "xx = np.linspace(0,120,num=10000)\n",
    "plt.plot(xx,m0(xx))"
   ]
  },
  {
   "cell_type": "code",
   "execution_count": 602,
   "id": "dd8d3e2a",
   "metadata": {},
   "outputs": [
    {
     "data": {
      "text/plain": [
       "[<matplotlib.lines.Line2D at 0x7f7e18f1d6d0>]"
      ]
     },
     "execution_count": 602,
     "metadata": {},
     "output_type": "execute_result"
    },
    {
     "data": {
      "image/png": "[encoded data removed]",
      "text/plain": [
       "<Figure size 432x288 with 1 Axes>"
      ]
     },
     "metadata": {
      "needs_background": "light"
     },
     "output_type": "display_data"
    }
   ],
   "source": [
    "plt.plot(xx, np.exp(-Y(u0,h0,V,xx)))"
   ]
  },
  {
   "cell_type": "code",
   "execution_count": 603,
   "id": "c69b480e",
   "metadata": {},
   "outputs": [
    {
     "data": {
      "text/plain": [
       "[<matplotlib.lines.Line2D at 0x7f7e1a1a20d0>]"
      ]
     },
     "execution_count": 603,
     "metadata": {},
     "output_type": "execute_result"
    },
    {
     "data": {
      "image/png": "[encoded data removed]",
      "text/plain": [
       "<Figure size 432x288 with 1 Axes>"
      ]
     },
     "metadata": {
      "needs_background": "light"
     },
     "output_type": "display_data"
    }
   ],
   "source": [
    "plt.plot(xx, np.exp(-Y(u0,h0,V,xx)) * m0(xx))"
   ]
  },
  {
   "cell_type": "code",
   "execution_count": null,
   "id": "09e3c435",
   "metadata": {},
   "outputs": [],
   "source": []
  },
  {
   "cell_type": "code",
   "execution_count": null,
   "id": "5e37bf35",
   "metadata": {},
   "outputs": [],
   "source": []
  },
  {
   "cell_type": "code",
   "execution_count": null,
   "id": "229fe978",
   "metadata": {},
   "outputs": [],
   "source": []
  },
  {
   "cell_type": "code",
   "execution_count": null,
   "id": "d4f4264d",
   "metadata": {},
   "outputs": [],
   "source": []
  },
  {
   "cell_type": "code",
   "execution_count": null,
   "id": "db69cc18",
   "metadata": {},
   "outputs": [],
   "source": []
  },
  {
   "cell_type": "code",
   "execution_count": null,
   "id": "0da926b9",
   "metadata": {},
   "outputs": [],
   "source": []
  },
  {
   "cell_type": "code",
   "execution_count": null,
   "id": "dd4d8212",
   "metadata": {},
   "outputs": [],
   "source": []
  },
  {
   "cell_type": "code",
   "execution_count": null,
   "id": "0d68347e",
   "metadata": {},
   "outputs": [],
   "source": []
  },
  {
   "cell_type": "code",
   "execution_count": null,
   "id": "0175a708",
   "metadata": {},
   "outputs": [],
   "source": []
  },
  {
   "cell_type": "code",
   "execution_count": null,
   "id": "e619a063",
   "metadata": {},
   "outputs": [],
   "source": []
  },
  {
   "cell_type": "code",
   "execution_count": null,
   "id": "d65a9896",
   "metadata": {},
   "outputs": [],
   "source": []
  },
  {
   "cell_type": "code",
   "execution_count": 604,
   "id": "0854429d",
   "metadata": {},
   "outputs": [
    {
     "data": {
      "text/plain": [
       "array([0.00000000e+00, 1.60016002e-02, 3.20032003e-02, ...,\n",
       "       1.59967997e+02, 1.59983998e+02, 1.60000000e+02])"
      ]
     },
     "execution_count": 604,
     "metadata": {},
     "output_type": "execute_result"
    }
   ],
   "source": [
    "a, b, n = 0, 160, 10000\n",
    "X1 = np.linspace(a,b,n)\n",
    "X1"
   ]
  },
  {
   "cell_type": "code",
   "execution_count": 605,
   "id": "ff94df15",
   "metadata": {},
   "outputs": [],
   "source": [
    "P1 = lambda x:(1/(np.sqrt(2*math.pi)*1e-1)) * np.exp(-1/2*((x-S0)/1e-1)**2) * (x >= 0) # Approximation of Dirac delta around S0"
   ]
  },
  {
   "cell_type": "code",
   "execution_count": 606,
   "id": "c12a6c6d",
   "metadata": {},
   "outputs": [
    {
     "data": {
      "text/plain": [
       "3.989422804014327"
      ]
     },
     "execution_count": 606,
     "metadata": {},
     "output_type": "execute_result"
    }
   ],
   "source": [
    "P1(S0)"
   ]
  },
  {
   "cell_type": "code",
   "execution_count": 607,
   "id": "ee0501b7",
   "metadata": {},
   "outputs": [
    {
     "data": {
      "text/plain": [
       "[<matplotlib.lines.Line2D at 0x7f7e1a257940>]"
      ]
     },
     "execution_count": 607,
     "metadata": {},
     "output_type": "execute_result"
    },
    {
     "data": {
      "image/png": "[encoded data removed]",
      "text/plain": [
       "<Figure size 432x288 with 1 Axes>"
      ]
     },
     "metadata": {
      "needs_background": "light"
     },
     "output_type": "display_data"
    }
   ],
   "source": [
    "xx = np.linspace(91,93,100000)\n",
    "plt.plot(xx,P1(xx))"
   ]
  },
  {
   "cell_type": "code",
   "execution_count": 608,
   "id": "e1c6bd64",
   "metadata": {},
   "outputs": [
    {
     "data": {
      "text/plain": [
       "92.3"
      ]
     },
     "execution_count": 608,
     "metadata": {},
     "output_type": "execute_result"
    }
   ],
   "source": [
    "S0"
   ]
  },
  {
   "cell_type": "code",
   "execution_count": null,
   "id": "61ab010c",
   "metadata": {},
   "outputs": [],
   "source": []
  }
 ],
 "metadata": {
  "kernelspec": {
   "display_name": "Python 3 (ipykernel)",
   "language": "python",
   "name": "python3"
  },
  "language_info": {
   "codemirror_mode": {
    "name": "ipython",
    "version": 3
   },
   "file_extension": ".py",
   "mimetype": "text/x-python",
   "name": "python",
   "nbconvert_exporter": "python",
   "pygments_lexer": "ipython3",
   "version": "3.9.12"
  }
 },
 "nbformat": 4,
 "nbformat_minor": 5
}
